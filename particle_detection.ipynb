{
 "cells": [
  {
   "cell_type": "code",
   "execution_count": 2,
   "metadata": {},
   "outputs": [],
   "source": [
    "#!pip install keras==2.6.*"
   ]
  },
  {
   "cell_type": "code",
   "execution_count": 9,
   "metadata": {},
   "outputs": [
    {
     "name": "stdout",
     "output_type": "stream",
     "text": [
      "Populating the interactive namespace from numpy and matplotlib\n"
     ]
    }
   ],
   "source": [
    "%pylab inline\n",
    "%config InlineBackend.figure_format = 'retina'\n",
    "from ipywidgets import interact\n",
    "import tensorflow as tf\n",
    "\n",
    "from Training_Data.Particle_Tracking_Training_Data import Particle_Tracking_Training_Data\n",
    "\n",
    "from tensorflow.data import Dataset\n",
    "import keras\n",
    "\n",
    "from keras.models import Model, Sequential\n",
    "from keras.layers import Activation, Input, LeakyReLU, ConvLSTM2D, Conv2D\n",
    "import tensorflow.python.keras.backend as K"
   ]
  },
  {
   "cell_type": "code",
   "execution_count": 2,
   "metadata": {},
   "outputs": [],
   "source": [
    "Nt = 20 ## number of frames for each video\n",
    "kappa = 0.1 ## standard deviation of background noise added to image \n",
    "a = 1. ## scale factor for the size of particle spots (not true size of particles) 3.0 make random(2.,8.)\n",
    "IbackLevel = 0.15 ## relative intensity of randomly generated background pattern; in (0, 1) \n",
    "Nparticles = 10 ## the number of particles (more => slower)\n",
    "sigma_motion = 3. ## the standard deviation for particle brownian motion; should be in (0, 10)"
   ]
  },
  {
   "cell_type": "markdown",
   "metadata": {},
   "source": [
    "# Data Generation"
   ]
  },
  {
   "cell_type": "code",
   "execution_count": 3,
   "metadata": {},
   "outputs": [],
   "source": [
    "def generate_data(size, pt, kappa, a, IbackLevel, Nparticles, sigma_motion): \n",
    "    all_vid, all_labels, all_tracks = [],[],[]\n",
    "    for i in range(size): \n",
    "        vid, labels, tracks = pt(kappa, a, IbackLevel, Nparticles, sigma_motion) \n",
    "        all_vid.append(vid[:,::2,::2]) # downsample video to Ntx128x128\n",
    "        all_labels.append(labels)\n",
    "        all_tracks.append(tracks)\n",
    "    all_vid = tf.convert_to_tensor(all_vid) \n",
    "    all_labels = tf.convert_to_tensor(all_labels) \n",
    "    all_tracks = tf.convert_to_tensor(all_tracks)\n",
    "    \n",
    "    if Nt == 1:\n",
    "        all_vid = tf.transpose(all_vid, perm=[0,2,3,1])\n",
    "        #all_labels = tf.transpose(all_labels[:,:,:,:,1], perm=[0,2,3,1])\n",
    "    else:\n",
    "        all_vid = tf.expand_dims(all_vid, 4)\n",
    "        #all_labels = tf.expand_dims(all_labels[:,:,:,:,1], 4)\n",
    "    #print(all_labels.shape)\n",
    "    all_labels = tf.squeeze(all_labels)\n",
    "    #print(all_labels.shape)\n",
    "    return all_vid, all_labels, all_tracks"
   ]
  },
  {
   "cell_type": "markdown",
   "metadata": {},
   "source": [
    "# Basic CNN"
   ]
  },
  {
   "cell_type": "code",
   "execution_count": 4,
   "metadata": {},
   "outputs": [],
   "source": [
    "train_size1 = 200\n",
    "val_size1 = 50\n",
    "Nt = 1\n",
    "pt_single = Particle_Tracking_Training_Data(Nt) \n",
    "\n",
    "train_vid1, train_labels1, train_tracks1 = generate_data(train_size1, pt_single, kappa, a, IbackLevel, Nparticles, sigma_motion)\n",
    "val_vid1, val_labels1, val_tracks1 = generate_data(val_size1, pt_single, kappa, a, IbackLevel, Nparticles, sigma_motion)"
   ]
  },
  {
   "cell_type": "code",
   "execution_count": 5,
   "metadata": {},
   "outputs": [],
   "source": [
    "#https://stackoverflow.com/questions/51793737/custom-loss-function-for-u-net-in-keras-using-class-weights-class-weight-not\n",
    "\n",
    "def weightedLoss(originalLossFunc, weightsList):\n",
    "\n",
    "    def lossFunc(true, pred):\n",
    "        axis = -1 #if channels last \n",
    "        #axis=  1 #if channels first\n",
    "\n",
    "        #argmax returns the index of the element with the greatest value\n",
    "        #done in the class axis, it returns the class index    \n",
    "        classSelectors = K.argmax(true, axis=axis) \n",
    "            #if your loss is sparse, use only true as classSelectors\n",
    "\n",
    "        #considering weights are ordered by class, for each class\n",
    "        #true(1) if the class index is equal to the weight index  \n",
    "        classSelectors = tf.cast(classSelectors, tf.int32)\n",
    "        classSelectors = [K.equal(i, classSelectors) for i in range(len(weightsList))]\n",
    "\n",
    "        #casting boolean to float for calculations  \n",
    "        #each tensor in the list contains 1 where ground true class is equal to its index \n",
    "        #if you sum all these, you will get a tensor full of ones. \n",
    "        classSelectors = [K.cast(x, K.floatx()) for x in classSelectors]\n",
    "\n",
    "        #for each of the selections above, multiply their respective weight\n",
    "        weights = [sel * w for sel,w in zip(classSelectors, weightsList)] \n",
    "\n",
    "        #sums all the selections\n",
    "        #result is a tensor with the respective weight for each element in predictions\n",
    "        weightMultiplier = weights[0]\n",
    "        for i in range(1, len(weights)):\n",
    "            weightMultiplier = weightMultiplier + weights[i]\n",
    "\n",
    "\n",
    "        #make sure your originalLossFunc only collapses the class axis\n",
    "        #you need the other axes intact to multiply the weights tensor\n",
    "        loss = originalLossFunc(true,pred) \n",
    "        loss = loss * weightMultiplier\n",
    "\n",
    "        return loss\n",
    "    return lossFunc"
   ]
  },
  {
   "cell_type": "code",
   "execution_count": 6,
   "metadata": {},
   "outputs": [],
   "source": [
    "precision_f = tf.keras.metrics.Precision(class_id=1)\n",
    "recall_f = tf.keras.metrics.Recall(class_id=1)\n",
    "\n",
    "def f1_score(y_true, y_pred):\n",
    "    precision = precision_f(y_true, y_pred)\n",
    "    recall = recall_f(y_true, y_pred)\n",
    "    f1_val = 2*(precision*recall)/(precision+recall)\n",
    "    return f1_val"
   ]
  },
  {
   "cell_type": "markdown",
   "metadata": {},
   "source": [
    "### CNN Training"
   ]
  },
  {
   "cell_type": "code",
   "execution_count": 111,
   "metadata": {},
   "outputs": [],
   "source": [
    "loss_list = list()\n",
    "acc_train_list = list()\n",
    "recall_train_list = list()\n",
    "prec_train_list = list()\n",
    "f1_train_list = list()\n",
    "\n",
    "class SaveBatchLoss(tf.keras.callbacks.Callback):\n",
    "    def on_train_batch_end(self, batch, logs=None):\n",
    "        loss_list.append(logs['loss'])\n",
    "        acc_train_list.append(logs['accuracy'])\n",
    "        recall_train_list.append(logs['recall_1'])\n",
    "        prec_train_list.append(logs['precision_1'])\n",
    "        f1_train_list.append(logs['f1_score'])"
   ]
  },
  {
   "cell_type": "code",
   "execution_count": 112,
   "metadata": {
    "scrolled": true
   },
   "outputs": [
    {
     "name": "stdout",
     "output_type": "stream",
     "text": [
      "Epoch 1/10\n",
      "10/10 [==============================] - 7s 545ms/step - loss: 14.3489 - accuracy: 0.9166 - precision_1: 0.0035 - recall_1: 0.0755 - f1_score: 0.0948 - val_loss: 14.0735 - val_accuracy: 0.9961 - val_precision_1: 0.0000e+00 - val_recall_1: 0.0000e+00 - val_f1_score: 0.0947\n",
      "Epoch 2/10\n",
      "10/10 [==============================] - 5s 528ms/step - loss: 11.1998 - accuracy: 0.9952 - precision_1: 0.0069 - recall_1: 0.0021 - f1_score: 0.0947 - val_loss: 6.0948 - val_accuracy: 0.9897 - val_precision_1: 0.0061 - val_recall_1: 0.0107 - val_f1_score: 0.0947\n",
      "Epoch 3/10\n",
      "10/10 [==============================] - 5s 512ms/step - loss: 3.9513 - accuracy: 0.9266 - precision_1: 0.0138 - recall_1: 0.2665 - f1_score: 0.0943 - val_loss: 2.3968 - val_accuracy: 0.9742 - val_precision_1: 0.0316 - val_recall_1: 0.1974 - val_f1_score: 0.0939\n",
      "Epoch 4/10\n",
      "10/10 [==============================] - 5s 525ms/step - loss: 2.1099 - accuracy: 0.9817 - precision_1: 0.0601 - recall_1: 0.2681 - f1_score: 0.0939 - val_loss: 1.7557 - val_accuracy: 0.9444 - val_precision_1: 0.0390 - val_recall_1: 0.5818 - val_f1_score: 0.0939\n",
      "Epoch 5/10\n",
      "10/10 [==============================] - 6s 582ms/step - loss: 1.4688 - accuracy: 0.9721 - precision_1: 0.0650 - recall_1: 0.4877 - f1_score: 0.0939 - val_loss: 1.2592 - val_accuracy: 0.9846 - val_precision_1: 0.1126 - val_recall_1: 0.4506 - val_f1_score: 0.0940\n",
      "Epoch 6/10\n",
      "10/10 [==============================] - 6s 589ms/step - loss: 1.0359 - accuracy: 0.9736 - precision_1: 0.0829 - recall_1: 0.6083 - f1_score: 0.0941 - val_loss: 1.0211 - val_accuracy: 0.9878 - val_precision_1: 0.1532 - val_recall_1: 0.4930 - val_f1_score: 0.0943\n",
      "Epoch 7/10\n",
      "10/10 [==============================] - 5s 527ms/step - loss: 0.8239 - accuracy: 0.9836 - precision_1: 0.1312 - recall_1: 0.6068 - f1_score: 0.0945 - val_loss: 0.7757 - val_accuracy: 0.9787 - val_precision_1: 0.1100 - val_recall_1: 0.6574 - val_f1_score: 0.0947\n",
      "Epoch 8/10\n",
      "10/10 [==============================] - 6s 599ms/step - loss: 0.6805 - accuracy: 0.9842 - precision_1: 0.1434 - recall_1: 0.6547 - f1_score: 0.0949 - val_loss: 0.6681 - val_accuracy: 0.9843 - val_precision_1: 0.1468 - val_recall_1: 0.6587 - val_f1_score: 0.0952\n",
      "Epoch 9/10\n",
      "10/10 [==============================] - 6s 651ms/step - loss: 0.5871 - accuracy: 0.9847 - precision_1: 0.1525 - recall_1: 0.6888 - f1_score: 0.0955 - val_loss: 0.6032 - val_accuracy: 0.9889 - val_precision_1: 0.1997 - val_recall_1: 0.6441 - val_f1_score: 0.0957\n",
      "Epoch 10/10\n",
      "10/10 [==============================] - 6s 653ms/step - loss: 0.5034 - accuracy: 0.9857 - precision_1: 0.1665 - recall_1: 0.7124 - f1_score: 0.0960 - val_loss: 0.5215 - val_accuracy: 0.9887 - val_precision_1: 0.1997 - val_recall_1: 0.6687 - val_f1_score: 0.0963\n"
     ]
    },
    {
     "data": {
      "text/plain": [
       "<keras.callbacks.History at 0x1ad908d1648>"
      ]
     },
     "execution_count": 112,
     "metadata": {},
     "output_type": "execute_result"
    }
   ],
   "source": [
    "batch_size = 20\n",
    "epochs = 100\n",
    "\n",
    "model1 = Sequential()\n",
    "model1.add(Input((128,128,1)))\n",
    "model1.add(Conv2D(12, 3, padding='same', activation=LeakyReLU(alpha=0.01), strides=(1,1)))\n",
    "model1.add(Conv2D(32, 3, padding='same', activation=LeakyReLU(alpha=0.01), strides=(1,1)))\n",
    "model1.add(Conv2D(2, 3, padding='same', strides=(1,1)))\n",
    "model1.add(Activation('softmax'))\n",
    "\n",
    "model1.compile(optimizer='adam',\n",
    "             loss=weightedLoss(keras.losses.categorical_crossentropy, [0.1, 0.9]),\n",
    "             metrics=['accuracy', tf.keras.metrics.Precision(name='precision_1', class_id=1), \n",
    "                      tf.keras.metrics.Recall(name='recall_1', class_id=1), f1_score])\n",
    "\n",
    "num_batches = int(train_size1/batch_size)\n",
    "model1.fit(train_vid1, train_labels1, steps_per_epoch=num_batches, epochs=epochs, verbose=1, \n",
    "          validation_data=(val_vid1, val_labels1), callbacks=SaveBatchLoss())"
   ]
  },
  {
   "cell_type": "code",
   "execution_count": 122,
   "metadata": {},
   "outputs": [
    {
     "data": {
      "image/png": "[encoded data removed]",
      "text/plain": [
       "<Figure size 432x288 with 1 Axes>"
      ]
     },
     "metadata": {
      "image/png": {
       "height": 261,
       "width": 382
      },
      "needs_background": "light"
     },
     "output_type": "display_data"
    }
   ],
   "source": [
    "plt.plot(range(1,epochs+1), loss_list[num_batches-1::num_batches])\n",
    "plt.xlabel('Epoch')\n",
    "plt.ylabel('Weighted cross entropy loss')\n",
    "plt.ylim(0)\n",
    "plt.show()"
   ]
  },
  {
   "cell_type": "code",
   "execution_count": 11,
   "metadata": {},
   "outputs": [
    {
     "name": "stdout",
     "output_type": "stream",
     "text": [
      "Model: \"sequential_2\"\n",
      "_________________________________________________________________\n",
      "Layer (type)                 Output Shape              Param #   \n",
      "=================================================================\n",
      "conv2d_6 (Conv2D)            (None, 128, 128, 12)      120       \n",
      "_________________________________________________________________\n",
      "conv2d_7 (Conv2D)            (None, 128, 128, 32)      3488      \n",
      "_________________________________________________________________\n",
      "conv2d_8 (Conv2D)            (None, 128, 128, 2)       578       \n",
      "_________________________________________________________________\n",
      "activation_2 (Activation)    (None, 128, 128, 2)       0         \n",
      "=================================================================\n",
      "Total params: 4,186\n",
      "Trainable params: 4,186\n",
      "Non-trainable params: 0\n",
      "_________________________________________________________________\n"
     ]
    }
   ],
   "source": [
    "model1.summary()"
   ]
  },
  {
   "cell_type": "markdown",
   "metadata": {},
   "source": [
    "### Show results"
   ]
  },
  {
   "cell_type": "code",
   "execution_count": 73,
   "metadata": {},
   "outputs": [],
   "source": [
    "Nt = 20\n",
    "pt_test = Particle_Tracking_Training_Data(Nt)\n",
    "vid, labels, tracks = pt_test(kappa, a, IbackLevel, Nparticles, sigma_motion) \n",
    "input_vid = tf.expand_dims(vid[:,::2,::2], 3)"
   ]
  },
  {
   "cell_type": "code",
   "execution_count": 74,
   "metadata": {},
   "outputs": [],
   "source": [
    "pred = model1.predict(input_vid)"
   ]
  },
  {
   "cell_type": "code",
   "execution_count": 77,
   "metadata": {},
   "outputs": [],
   "source": [
    "threshold = 0.5\n",
    "pred_bin = pred.copy()\n",
    "pred_bin[pred_bin <= threshold] = 0\n",
    "pred_bin[pred_bin > threshold] = 1"
   ]
  },
  {
   "cell_type": "code",
   "execution_count": 78,
   "metadata": {},
   "outputs": [
    {
     "data": {
      "application/vnd.jupyter.widget-view+json": {
       "model_id": "1824f2b7197349f895e71f3314d564f8",
       "version_major": 2,
       "version_minor": 0
      },
      "text/plain": [
       "interactive(children=(IntSlider(value=0, description='t', max=19), Checkbox(value=True, description='show_trac…"
      ]
     },
     "metadata": {},
     "output_type": "display_data"
    }
   ],
   "source": [
    "@interact(t=(0, Nt-1, 1))\n",
    "def plotfn(t=0, show_tracks=True):\n",
    "    fig = figure(1, [14, 7])\n",
    "    fig.add_subplot(131)\n",
    "    imshow(vid[t], origin='lower')\n",
    "    if show_tracks:\n",
    "        plot(tracks[t, :, 0], tracks[t, :, 1], 'rx')\n",
    "    xlim(0, 255)\n",
    "    ylim(0, 255)\n",
    "    plt.title('Input image')\n",
    "        \n",
    "    fig.add_subplot(132)\n",
    "    imshow(vid[t], origin='lower')\n",
    "    imshow(pred_bin[t, ..., 1], origin='lower')\n",
    "    plt.title('Predicted particles')\n",
    "    \n",
    "    fig.add_subplot(133)\n",
    "    imshow(vid[t], origin='lower')\n",
    "    imshow(labels[t, ..., 1], origin='lower')\n",
    "    plt.title('Ground truth')"
   ]
  },
  {
   "cell_type": "code",
   "execution_count": null,
   "metadata": {},
   "outputs": [],
   "source": []
  },
  {
   "cell_type": "markdown",
   "metadata": {},
   "source": [
    "# ConvLSTM2D"
   ]
  },
  {
   "cell_type": "markdown",
   "metadata": {},
   "source": [
    "#### Data Generation (videos)"
   ]
  },
  {
   "cell_type": "code",
   "execution_count": 123,
   "metadata": {},
   "outputs": [],
   "source": [
    "train_size = 40\n",
    "val_size = 3\n",
    "Nt = 10\n",
    "pt_video = Particle_Tracking_Training_Data(Nt)\n",
    "\n",
    "train_vid2, train_labels2, train_tracks2 = generate_data(train_size, pt_video, kappa, a, IbackLevel, Nparticles, sigma_motion)\n",
    "val_vid2, val_labels2, val_tracks2 = generate_data(val_size, pt_video, kappa, a, IbackLevel, Nparticles, sigma_motion)"
   ]
  },
  {
   "cell_type": "code",
   "execution_count": null,
   "metadata": {
    "scrolled": true
   },
   "outputs": [
    {
     "name": "stdout",
     "output_type": "stream",
     "text": [
      "Epoch 1/5\n",
      "40/40 [==============================] - 95s 2s/step - loss: 0.0049 - accuracy: 0.9521 - precision_1: 0.0075 - recall_1: 0.2817 - f1_score: 0.0942 - val_loss: 0.0049 - val_accuracy: 0.9420 - val_precision_1: 0.0211 - val_recall_1: 0.4431 - val_f1_score: 0.0933\n",
      "Epoch 2/5\n",
      "16/40 [===========>..................] - ETA: 48s - loss: 0.0040 - accuracy: 0.8835 - precision_1: 0.0122 - recall_1: 0.6902 - f1_score: 0.0926"
     ]
    }
   ],
   "source": [
    "batch_size = 1\n",
    "epochs = 5\n",
    "\n",
    "model2 = Sequential()\n",
    "model2.add(Input((Nt,128,128,1)))\n",
    "model2.add(ConvLSTM2D(12, kernel_size=(3, 3), padding='same', strides=(1,1), \n",
    "                     return_sequences=True,  data_format='channels_last'))\n",
    "model2.add(ConvLSTM2D(16, kernel_size=(3, 3), padding='same', strides=(1,1), \n",
    "                     return_sequences=True,  data_format='channels_last'))\n",
    "model2.add(ConvLSTM2D(2, kernel_size=(3, 3), padding='same', strides=(1,1), \n",
    "                     return_sequences=True,  data_format='channels_last'))\n",
    "model2.add(Activation('sigmoid'))\n",
    "\n",
    "model2.compile(optimizer='adam',\n",
    "            loss=weightedLoss(keras.losses.categorical_crossentropy, [0.0039, 0.9961]),\n",
    "            metrics=['accuracy', tf.keras.metrics.Precision(name='precision_1', class_id=1), \n",
    "                      tf.keras.metrics.Recall(name='recall_1', class_id=1), f1_score])\n",
    "\n",
    "num_batches = int(train_size/batch_size)\n",
    "model2.fit(train_vid2, train_labels2, steps_per_epoch=num_batches, epochs=epochs, verbose=1, \n",
    "          validation_data=(val_vid2, val_labels2))"
   ]
  },
  {
   "cell_type": "code",
   "execution_count": 15,
   "metadata": {},
   "outputs": [
    {
     "data": {
      "text/plain": [
       "<tf.Tensor: shape=(), dtype=int32, numpy=6313>"
      ]
     },
     "execution_count": 15,
     "metadata": {},
     "output_type": "execute_result"
    }
   ],
   "source": [
    "tf.math.reduce_sum(train_labels2[:,:,:,:,1])"
   ]
  },
  {
   "cell_type": "code",
   "execution_count": 16,
   "metadata": {},
   "outputs": [
    {
     "data": {
      "text/plain": [
       "0.9960980224609375"
      ]
     },
     "execution_count": 16,
     "metadata": {},
     "output_type": "execute_result"
    }
   ],
   "source": [
    "1-6393/(10*10*128*128)"
   ]
  },
  {
   "cell_type": "code",
   "execution_count": 18,
   "metadata": {},
   "outputs": [
    {
     "name": "stdout",
     "output_type": "stream",
     "text": [
      "Model: \"sequential_3\"\n",
      "_________________________________________________________________\n",
      "Layer (type)                 Output Shape              Param #   \n",
      "=================================================================\n",
      "conv_lst_m2d (ConvLSTM2D)    (None, 10, 128, 128, 12)  5664      \n",
      "_________________________________________________________________\n",
      "conv_lst_m2d_1 (ConvLSTM2D)  (None, 10, 128, 128, 16)  16192     \n",
      "_________________________________________________________________\n",
      "conv_lst_m2d_2 (ConvLSTM2D)  (None, 10, 128, 128, 2)   1304      \n",
      "_________________________________________________________________\n",
      "activation_3 (Activation)    (None, 10, 128, 128, 2)   0         \n",
      "=================================================================\n",
      "Total params: 23,160\n",
      "Trainable params: 23,160\n",
      "Non-trainable params: 0\n",
      "_________________________________________________________________\n"
     ]
    }
   ],
   "source": [
    "model2.summary()"
   ]
  },
  {
   "cell_type": "code",
   "execution_count": null,
   "metadata": {},
   "outputs": [],
   "source": []
  }
 ],
 "metadata": {
  "kernelspec": {
   "display_name": "Python 3",
   "language": "python",
   "name": "python3"
  },
  "language_info": {
   "codemirror_mode": {
    "name": "ipython",
    "version": 3
   },
   "file_extension": ".py",
   "mimetype": "text/x-python",
   "name": "python",
   "nbconvert_exporter": "python",
   "pygments_lexer": "ipython3",
   "version": "3.7.6"
  }
 },
 "nbformat": 4,
 "nbformat_minor": 2
}
