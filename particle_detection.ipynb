{
 "cells": [
  {
   "cell_type": "code",
   "execution_count": 2,
   "metadata": {},
   "outputs": [],
   "source": [
    "#!pip install keras==2.6.*"
   ]
  },
  {
   "cell_type": "code",
   "execution_count": 1,
   "metadata": {},
   "outputs": [
    {
     "name": "stdout",
     "output_type": "stream",
     "text": [
      "Populating the interactive namespace from numpy and matplotlib\n"
     ]
    }
   ],
   "source": [
    "%pylab inline\n",
    "%config InlineBackend.figure_format = 'retina'\n",
    "from ipywidgets import interact\n",
    "import tensorflow as tf\n",
    "\n",
    "from Training_Data.Particle_Tracking_Training_Data import Particle_Tracking_Training_Data\n",
    "\n",
    "from tensorflow.data import Dataset\n",
    "import keras\n",
    "\n",
    "from keras.models import Model, Sequential\n",
    "from keras.layers import Activation, Input, LeakyReLU, ConvLSTM2D, Conv2D, Reshape\n",
    "import tensorflow.python.keras.backend as K"
   ]
  },
  {
   "cell_type": "code",
   "execution_count": 2,
   "metadata": {},
   "outputs": [],
   "source": [
    "Nt = 20 ## number of frames for each video\n",
    "kappa = 0.1 ## standard deviation of background noise added to image \n",
    "a = 1. ## scale factor for the size of particle spots (not true size of particles) 3.0 make random(2.,8.)\n",
    "IbackLevel = 0.15 ## relative intensity of randomly generated background pattern; in (0, 1) \n",
    "Nparticles = 10 ## the number of particles (more => slower)\n",
    "sigma_motion = 3. ## the standard deviation for particle brownian motion; should be in (0, 10)"
   ]
  },
  {
   "cell_type": "markdown",
   "metadata": {},
   "source": [
    "# Data Generation"
   ]
  },
  {
   "cell_type": "code",
   "execution_count": 3,
   "metadata": {},
   "outputs": [],
   "source": [
    "def generate_data(size, pt, kappa, a, IbackLevel, Nparticles, sigma_motion): \n",
    "    all_vid, all_labels, all_tracks = [],[],[]\n",
    "    for i in range(size): \n",
    "        vid, labels, tracks = pt(kappa, a, IbackLevel, Nparticles, sigma_motion) \n",
    "        all_vid.append(vid[:,::2,::2]) # downsample video to Ntx128x128\n",
    "        all_labels.append(labels)\n",
    "        all_tracks.append(tracks)\n",
    "    all_vid = tf.convert_to_tensor(all_vid) \n",
    "    all_labels = tf.convert_to_tensor(all_labels) \n",
    "    all_tracks = tf.convert_to_tensor(all_tracks)\n",
    "    \n",
    "    #if Nt == 1:\n",
    "    #    all_vid = tf.transpose(all_vid, perm=[0,2,3,1])\n",
    "        #all_labels = tf.transpose(all_labels[:,:,:,:,1], perm=[0,2,3,1])\n",
    "    #else:\n",
    "    all_vid = tf.expand_dims(all_vid, 4)\n",
    "        #all_labels = tf.expand_dims(all_labels[:,:,:,:,1], 4)\n",
    "    all_labels = tf.squeeze(all_labels)\n",
    "    return all_vid, all_labels, all_tracks"
   ]
  },
  {
   "cell_type": "code",
   "execution_count": 4,
   "metadata": {},
   "outputs": [],
   "source": [
    "train_size = 20\n",
    "val_size = 3\n",
    "Nt = 10\n",
    "pt = Particle_Tracking_Training_Data(Nt) \n",
    "\n",
    "train_vid, train_labels, train_tracks = generate_data(train_size, pt, kappa, a, IbackLevel, Nparticles, sigma_motion)\n",
    "val_vid, val_labels, val_tracks = generate_data(val_size, pt, kappa, a, IbackLevel, Nparticles, sigma_motion)"
   ]
  },
  {
   "cell_type": "markdown",
   "metadata": {},
   "source": [
    "# Basic CNN"
   ]
  },
  {
   "cell_type": "code",
   "execution_count": 5,
   "metadata": {},
   "outputs": [],
   "source": [
    "#https://stackoverflow.com/questions/51793737/custom-loss-function-for-u-net-in-keras-using-class-weights-class-weight-not\n",
    "\n",
    "def weightedLoss(originalLossFunc, weightsList):\n",
    "\n",
    "    def lossFunc(true, pred):\n",
    "        axis = -1 #if channels last \n",
    "        #axis=  1 #if channels first\n",
    "\n",
    "        #argmax returns the index of the element with the greatest value\n",
    "        #done in the class axis, it returns the class index    \n",
    "        classSelectors = K.argmax(true, axis=axis) \n",
    "            #if your loss is sparse, use only true as classSelectors\n",
    "\n",
    "        #considering weights are ordered by class, for each class\n",
    "        #true(1) if the class index is equal to the weight index  \n",
    "        classSelectors = tf.cast(classSelectors, tf.int32)\n",
    "        classSelectors = [K.equal(i, classSelectors) for i in range(len(weightsList))]\n",
    "\n",
    "        #casting boolean to float for calculations  \n",
    "        #each tensor in the list contains 1 where ground true class is equal to its index \n",
    "        #if you sum all these, you will get a tensor full of ones. \n",
    "        classSelectors = [K.cast(x, K.floatx()) for x in classSelectors]\n",
    "\n",
    "        #for each of the selections above, multiply their respective weight\n",
    "        weights = [sel * w for sel,w in zip(classSelectors, weightsList)] \n",
    "\n",
    "        #sums all the selections\n",
    "        #result is a tensor with the respective weight for each element in predictions\n",
    "        weightMultiplier = weights[0]\n",
    "        for i in range(1, len(weights)):\n",
    "            weightMultiplier = weightMultiplier + weights[i]\n",
    "\n",
    "\n",
    "        #make sure your originalLossFunc only collapses the class axis\n",
    "        #you need the other axes intact to multiply the weights tensor\n",
    "        loss = originalLossFunc(true,pred) \n",
    "        loss = loss * weightMultiplier\n",
    "\n",
    "        return loss\n",
    "    return lossFunc"
   ]
  },
  {
   "cell_type": "code",
   "execution_count": 6,
   "metadata": {},
   "outputs": [],
   "source": [
    "precision_f = tf.keras.metrics.Precision(class_id=1)\n",
    "recall_f = tf.keras.metrics.Recall(class_id=1)\n",
    "\n",
    "def f1_score(y_true, y_pred):\n",
    "    precision = precision_f(y_true, y_pred)\n",
    "    recall = recall_f(y_true, y_pred)\n",
    "    f1_val = 2*(precision*recall)/(precision+recall)\n",
    "    return f1_val"
   ]
  },
  {
   "cell_type": "markdown",
   "metadata": {},
   "source": [
    "### CNN Training"
   ]
  },
  {
   "cell_type": "code",
   "execution_count": 7,
   "metadata": {},
   "outputs": [],
   "source": [
    "train_vid_cnn = tf.reshape(train_vid, (train_size*Nt, 128, 128, 1))\n",
    "train_labels_cnn = tf.reshape(train_labels, (train_size*Nt, 128, 128, 2))\n",
    "val_vid_cnn = tf.reshape(val_vid, (val_size*Nt, 128, 128, 1))\n",
    "val_labels_cnn = tf.reshape(val_labels, (val_size*Nt, 128, 128, 2))"
   ]
  },
  {
   "cell_type": "code",
   "execution_count": 8,
   "metadata": {},
   "outputs": [],
   "source": [
    "loss_list1 = list()\n",
    "acc_train_list1 = list()\n",
    "recall_train_list1 = list()\n",
    "prec_train_list1 = list()\n",
    "f1_train_list1 = list()\n",
    "\n",
    "class SaveBatchLoss1(tf.keras.callbacks.Callback):\n",
    "    def on_train_batch_end(self, batch, logs=None):\n",
    "        loss_list1.append(logs['loss'])\n",
    "        acc_train_list1.append(logs['accuracy'])\n",
    "        recall_train_list1.append(logs['recall_1'])\n",
    "        prec_train_list1.append(logs['precision_1'])\n",
    "        f1_train_list1.append(logs['f1_score'])"
   ]
  },
  {
   "cell_type": "code",
   "execution_count": 16,
   "metadata": {
    "scrolled": true
   },
   "outputs": [
    {
     "name": "stdout",
     "output_type": "stream",
     "text": [
      "Epoch 1/50\n",
      "2/2 [==============================] - 6s 3s/step - loss: 4.4272 - accuracy: 0.9722 - precision_1: 0.0144 - recall_1: 0.0944 - f1_score: 0.0094 - val_loss: 5.3724 - val_accuracy: 0.7952 - val_precision_1: 0.0084 - val_recall_1: 0.4616 - val_f1_score: 0.0110\n",
      "Epoch 2/50\n",
      "2/2 [==============================] - 5s 3s/step - loss: 4.4351 - accuracy: 0.8615 - precision_1: 0.0099 - recall_1: 0.3609 - f1_score: 0.0132 - val_loss: 2.7817 - val_accuracy: 0.9802 - val_precision_1: 0.0198 - val_recall_1: 0.0887 - val_f1_score: 0.0140\n",
      "Epoch 3/50\n",
      "2/2 [==============================] - 5s 2s/step - loss: 3.1638 - accuracy: 0.9831 - precision_1: 0.0217 - recall_1: 0.0791 - f1_score: 0.0146 - val_loss: 3.3378 - val_accuracy: 0.9920 - val_precision_1: 0.0324 - val_recall_1: 0.0392 - val_f1_score: 0.0148\n",
      "Epoch 4/50\n",
      "2/2 [==============================] - 5s 2s/step - loss: 3.5624 - accuracy: 0.9920 - precision_1: 0.0375 - recall_1: 0.0459 - f1_score: 0.0152 - val_loss: 3.0579 - val_accuracy: 0.9934 - val_precision_1: 0.0547 - val_recall_1: 0.0463 - val_f1_score: 0.0154\n",
      "Epoch 5/50\n",
      "2/2 [==============================] - 5s 3s/step - loss: 3.1009 - accuracy: 0.9921 - precision_1: 0.0616 - recall_1: 0.0774 - f1_score: 0.0161 - val_loss: 2.1385 - val_accuracy: 0.9900 - val_precision_1: 0.0645 - val_recall_1: 0.1247 - val_f1_score: 0.0167\n",
      "Epoch 6/50\n",
      "2/2 [==============================] - 5s 3s/step - loss: 2.1797 - accuracy: 0.9855 - precision_1: 0.0601 - recall_1: 0.1941 - f1_score: 0.0184 - val_loss: 1.4058 - val_accuracy: 0.9752 - val_precision_1: 0.0514 - val_recall_1: 0.3223 - val_f1_score: 0.0198\n",
      "Epoch 7/50\n",
      "2/2 [==============================] - 5s 2s/step - loss: 1.6161 - accuracy: 0.9638 - precision_1: 0.0440 - recall_1: 0.4151 - f1_score: 0.0232 - val_loss: 1.5523 - val_accuracy: 0.9396 - val_precision_1: 0.0342 - val_recall_1: 0.5558 - val_f1_score: 0.0252\n",
      "Epoch 8/50\n",
      "2/2 [==============================] - 5s 3s/step - loss: 1.8333 - accuracy: 0.9217 - precision_1: 0.0292 - recall_1: 0.6131 - f1_score: 0.0284 - val_loss: 1.4222 - val_accuracy: 0.9369 - val_precision_1: 0.0344 - val_recall_1: 0.5868 - val_f1_score: 0.0299\n",
      "Epoch 9/50\n",
      "2/2 [==============================] - 5s 3s/step - loss: 1.5068 - accuracy: 0.9352 - precision_1: 0.0342 - recall_1: 0.5951 - f1_score: 0.0326 - val_loss: 0.9597 - val_accuracy: 0.9735 - val_precision_1: 0.0655 - val_recall_1: 0.4578 - val_f1_score: 0.0340\n",
      "Epoch 10/50\n",
      "2/2 [==============================] - 5s 2s/step - loss: 1.1694 - accuracy: 0.9728 - precision_1: 0.0659 - recall_1: 0.4727 - f1_score: 0.0366 - val_loss: 1.0008 - val_accuracy: 0.9888 - val_precision_1: 0.1317 - val_recall_1: 0.3566 - val_f1_score: 0.0379\n",
      "Epoch 11/50\n",
      "2/2 [==============================] - 5s 2s/step - loss: 1.2308 - accuracy: 0.9871 - precision_1: 0.1208 - recall_1: 0.3842 - f1_score: 0.0403 - val_loss: 1.0565 - val_accuracy: 0.9921 - val_precision_1: 0.1828 - val_recall_1: 0.3239 - val_f1_score: 0.0414\n",
      "Epoch 12/50\n",
      "2/2 [==============================] - 5s 3s/step - loss: 1.2341 - accuracy: 0.9899 - precision_1: 0.1519 - recall_1: 0.3670 - f1_score: 0.0437 - val_loss: 0.9407 - val_accuracy: 0.9913 - val_precision_1: 0.1755 - val_recall_1: 0.3625 - val_f1_score: 0.0448\n",
      "Epoch 13/50\n",
      "2/2 [==============================] - 5s 2s/step - loss: 1.0817 - accuracy: 0.9874 - precision_1: 0.1320 - recall_1: 0.4212 - f1_score: 0.0473 - val_loss: 0.7625 - val_accuracy: 0.9858 - val_precision_1: 0.1223 - val_recall_1: 0.4524 - val_f1_score: 0.0485\n",
      "Epoch 14/50\n",
      "2/2 [==============================] - 5s 2s/step - loss: 0.9193 - accuracy: 0.9776 - precision_1: 0.0868 - recall_1: 0.5201 - f1_score: 0.0510 - val_loss: 0.7188 - val_accuracy: 0.9734 - val_precision_1: 0.0784 - val_recall_1: 0.5689 - val_f1_score: 0.0523\n",
      "Epoch 15/50\n",
      "2/2 [==============================] - 5s 3s/step - loss: 0.9077 - accuracy: 0.9615 - precision_1: 0.0589 - recall_1: 0.6149 - f1_score: 0.0545 - val_loss: 0.7358 - val_accuracy: 0.9666 - val_precision_1: 0.0676 - val_recall_1: 0.6206 - val_f1_score: 0.0556\n",
      "Epoch 16/50\n",
      "2/2 [==============================] - 5s 2s/step - loss: 0.8840 - accuracy: 0.9585 - precision_1: 0.0570 - recall_1: 0.6445 - f1_score: 0.0575 - val_loss: 0.6167 - val_accuracy: 0.9770 - val_precision_1: 0.0924 - val_recall_1: 0.5830 - val_f1_score: 0.0586\n",
      "Epoch 17/50\n",
      "2/2 [==============================] - 5s 2s/step - loss: 0.7547 - accuracy: 0.9730 - precision_1: 0.0816 - recall_1: 0.6010 - f1_score: 0.0607 - val_loss: 0.5557 - val_accuracy: 0.9876 - val_precision_1: 0.1538 - val_recall_1: 0.5171 - val_f1_score: 0.0619\n",
      "Epoch 18/50\n",
      "2/2 [==============================] - 5s 3s/step - loss: 0.7097 - accuracy: 0.9846 - precision_1: 0.1304 - recall_1: 0.5438 - f1_score: 0.0642 - val_loss: 0.5514 - val_accuracy: 0.9913 - val_precision_1: 0.2081 - val_recall_1: 0.4736 - val_f1_score: 0.0654\n",
      "Epoch 19/50\n",
      "2/2 [==============================] - 5s 3s/step - loss: 0.6914 - accuracy: 0.9883 - precision_1: 0.1644 - recall_1: 0.5187 - f1_score: 0.0676 - val_loss: 0.5109 - val_accuracy: 0.9905 - val_precision_1: 0.1945 - val_recall_1: 0.4888 - val_f1_score: 0.0688\n",
      "Epoch 20/50\n",
      "2/2 [==============================] - 5s 2s/step - loss: 0.6307 - accuracy: 0.9858 - precision_1: 0.1423 - recall_1: 0.5529 - f1_score: 0.0710 - val_loss: 0.4682 - val_accuracy: 0.9842 - val_precision_1: 0.1308 - val_recall_1: 0.5738 - val_f1_score: 0.0721\n",
      "Epoch 21/50\n",
      "2/2 [==============================] - 5s 2s/step - loss: 0.5850 - accuracy: 0.9766 - precision_1: 0.0979 - recall_1: 0.6334 - f1_score: 0.0741 - val_loss: 0.4563 - val_accuracy: 0.9797 - val_precision_1: 0.1114 - val_recall_1: 0.6342 - val_f1_score: 0.0752\n",
      "Epoch 22/50\n",
      "2/2 [==============================] - 5s 3s/step - loss: 0.5495 - accuracy: 0.9748 - precision_1: 0.0942 - recall_1: 0.6611 - f1_score: 0.0771 - val_loss: 0.4007 - val_accuracy: 0.9865 - val_precision_1: 0.1570 - val_recall_1: 0.5993 - val_f1_score: 0.0782\n",
      "Epoch 23/50\n",
      "2/2 [==============================] - 5s 2s/step - loss: 0.5000 - accuracy: 0.9838 - precision_1: 0.1368 - recall_1: 0.6209 - f1_score: 0.0803 - val_loss: 0.3888 - val_accuracy: 0.9912 - val_precision_1: 0.2250 - val_recall_1: 0.5547 - val_f1_score: 0.0815\n",
      "Epoch 24/50\n",
      "2/2 [==============================] - 5s 2s/step - loss: 0.4855 - accuracy: 0.9880 - precision_1: 0.1764 - recall_1: 0.5951 - f1_score: 0.0836 - val_loss: 0.3613 - val_accuracy: 0.9897 - val_precision_1: 0.2005 - val_recall_1: 0.5841 - val_f1_score: 0.0847\n",
      "Epoch 25/50\n",
      "2/2 [==============================] - 5s 3s/step - loss: 0.4500 - accuracy: 0.9842 - precision_1: 0.1423 - recall_1: 0.6374 - f1_score: 0.0868 - val_loss: 0.3509 - val_accuracy: 0.9848 - val_precision_1: 0.1489 - val_recall_1: 0.6478 - val_f1_score: 0.0879\n",
      "Epoch 26/50\n",
      "2/2 [==============================] - 5s 3s/step - loss: 0.4343 - accuracy: 0.9784 - precision_1: 0.1117 - recall_1: 0.6826 - f1_score: 0.0897 - val_loss: 0.3388 - val_accuracy: 0.9847 - val_precision_1: 0.1491 - val_recall_1: 0.6560 - val_f1_score: 0.0907\n",
      "Epoch 27/50\n",
      "2/2 [==============================] - 5s 2s/step - loss: 0.4118 - accuracy: 0.9802 - precision_1: 0.1208 - recall_1: 0.6762 - f1_score: 0.0925 - val_loss: 0.3179 - val_accuracy: 0.9890 - val_precision_1: 0.1955 - val_recall_1: 0.6228 - val_f1_score: 0.0935\n",
      "Epoch 28/50\n",
      "2/2 [==============================] - 5s 2s/step - loss: 0.3912 - accuracy: 0.9854 - precision_1: 0.1550 - recall_1: 0.6477 - f1_score: 0.0954 - val_loss: 0.3112 - val_accuracy: 0.9910 - val_precision_1: 0.2298 - val_recall_1: 0.6021 - val_f1_score: 0.0964\n",
      "Epoch 29/50\n",
      "2/2 [==============================] - 5s 3s/step - loss: 0.3800 - accuracy: 0.9872 - precision_1: 0.1731 - recall_1: 0.6374 - f1_score: 0.0984 - val_loss: 0.2994 - val_accuracy: 0.9904 - val_precision_1: 0.2215 - val_recall_1: 0.6217 - val_f1_score: 0.0994\n",
      "Epoch 30/50\n",
      "2/2 [==============================] - 5s 2s/step - loss: 0.3613 - accuracy: 0.9857 - precision_1: 0.1598 - recall_1: 0.6579 - f1_score: 0.1012 - val_loss: 0.2892 - val_accuracy: 0.9883 - val_precision_1: 0.1895 - val_recall_1: 0.6489 - val_f1_score: 0.1022\n",
      "Epoch 31/50\n"
     ]
    },
    {
     "name": "stdout",
     "output_type": "stream",
     "text": [
      "2/2 [==============================] - 5s 2s/step - loss: 0.3476 - accuracy: 0.9829 - precision_1: 0.1399 - recall_1: 0.6890 - f1_score: 0.1039 - val_loss: 0.2812 - val_accuracy: 0.9876 - val_precision_1: 0.1838 - val_recall_1: 0.6701 - val_f1_score: 0.1049\n",
      "Epoch 32/50\n",
      "2/2 [==============================] - 5s 3s/step - loss: 0.3347 - accuracy: 0.9835 - precision_1: 0.1454 - recall_1: 0.6951 - f1_score: 0.1066 - val_loss: 0.2701 - val_accuracy: 0.9900 - val_precision_1: 0.2185 - val_recall_1: 0.6522 - val_f1_score: 0.1075\n",
      "Epoch 33/50\n",
      "2/2 [==============================] - 5s 2s/step - loss: 0.3220 - accuracy: 0.9864 - precision_1: 0.1719 - recall_1: 0.6814 - f1_score: 0.1093 - val_loss: 0.2638 - val_accuracy: 0.9908 - val_precision_1: 0.2362 - val_recall_1: 0.6500 - val_f1_score: 0.1103\n",
      "Epoch 34/50\n",
      "2/2 [==============================] - 5s 2s/step - loss: 0.3128 - accuracy: 0.9869 - precision_1: 0.1775 - recall_1: 0.6834 - f1_score: 0.1121 - val_loss: 0.2572 - val_accuracy: 0.9896 - val_precision_1: 0.2152 - val_recall_1: 0.6712 - val_f1_score: 0.1130\n",
      "Epoch 35/50\n",
      "2/2 [==============================] - 5s 2s/step - loss: 0.3031 - accuracy: 0.9852 - precision_1: 0.1625 - recall_1: 0.7028 - f1_score: 0.1147 - val_loss: 0.2524 - val_accuracy: 0.9889 - val_precision_1: 0.2051 - val_recall_1: 0.6843 - val_f1_score: 0.1156\n",
      "Epoch 36/50\n",
      "2/2 [==============================] - 5s 3s/step - loss: 0.2952 - accuracy: 0.9850 - precision_1: 0.1612 - recall_1: 0.7113 - f1_score: 0.1172 - val_loss: 0.2460 - val_accuracy: 0.9901 - val_precision_1: 0.2258 - val_recall_1: 0.6745 - val_f1_score: 0.1181\n",
      "Epoch 37/50\n",
      "2/2 [==============================] - 5s 2s/step - loss: 0.2873 - accuracy: 0.9869 - precision_1: 0.1802 - recall_1: 0.7011 - f1_score: 0.1198 - val_loss: 0.2409 - val_accuracy: 0.9908 - val_precision_1: 0.2391 - val_recall_1: 0.6674 - val_f1_score: 0.1207\n",
      "Epoch 38/50\n",
      "2/2 [==============================] - 5s 2s/step - loss: 0.2801 - accuracy: 0.9871 - precision_1: 0.1834 - recall_1: 0.7044 - f1_score: 0.1223 - val_loss: 0.2366 - val_accuracy: 0.9899 - val_precision_1: 0.2227 - val_recall_1: 0.6810 - val_f1_score: 0.1232\n",
      "Epoch 39/50\n",
      "2/2 [==============================] - 5s 3s/step - loss: 0.2731 - accuracy: 0.9859 - precision_1: 0.1722 - recall_1: 0.7177 - f1_score: 0.1248 - val_loss: 0.2323 - val_accuracy: 0.9900 - val_precision_1: 0.2252 - val_recall_1: 0.6832 - val_f1_score: 0.1256\n",
      "Epoch 40/50\n",
      "2/2 [==============================] - 5s 2s/step - loss: 0.2666 - accuracy: 0.9866 - precision_1: 0.1795 - recall_1: 0.7153 - f1_score: 0.1272 - val_loss: 0.2278 - val_accuracy: 0.9910 - val_precision_1: 0.2436 - val_recall_1: 0.6745 - val_f1_score: 0.1280\n",
      "Epoch 41/50\n",
      "2/2 [==============================] - 5s 2s/step - loss: 0.2608 - accuracy: 0.9874 - precision_1: 0.1892 - recall_1: 0.7130 - f1_score: 0.1296 - val_loss: 0.2240 - val_accuracy: 0.9908 - val_precision_1: 0.2413 - val_recall_1: 0.6837 - val_f1_score: 0.1304\n",
      "Epoch 42/50\n",
      "2/2 [==============================] - 5s 3s/step - loss: 0.2549 - accuracy: 0.9872 - precision_1: 0.1875 - recall_1: 0.7182 - f1_score: 0.1320 - val_loss: 0.2206 - val_accuracy: 0.9905 - val_precision_1: 0.2364 - val_recall_1: 0.6897 - val_f1_score: 0.1328\n",
      "Epoch 43/50\n",
      "2/2 [==============================] - 5s 3s/step - loss: 0.2503 - accuracy: 0.9865 - precision_1: 0.1801 - recall_1: 0.7268 - f1_score: 0.1342 - val_loss: 0.2171 - val_accuracy: 0.9904 - val_precision_1: 0.2338 - val_recall_1: 0.6930 - val_f1_score: 0.1350\n",
      "Epoch 44/50\n",
      "2/2 [==============================] - 5s 2s/step - loss: 0.2448 - accuracy: 0.9870 - precision_1: 0.1865 - recall_1: 0.7260 - f1_score: 0.1365 - val_loss: 0.2133 - val_accuracy: 0.9912 - val_precision_1: 0.2519 - val_recall_1: 0.6837 - val_f1_score: 0.1373\n",
      "Epoch 45/50\n",
      "2/2 [==============================] - 5s 3s/step - loss: 0.2403 - accuracy: 0.9882 - precision_1: 0.2013 - recall_1: 0.7202 - f1_score: 0.1388 - val_loss: 0.2098 - val_accuracy: 0.9910 - val_precision_1: 0.2487 - val_recall_1: 0.6919 - val_f1_score: 0.1395\n",
      "Epoch 46/50\n",
      "2/2 [==============================] - 5s 3s/step - loss: 0.2352 - accuracy: 0.9873 - precision_1: 0.1909 - recall_1: 0.7310 - f1_score: 0.1410 - val_loss: 0.2074 - val_accuracy: 0.9902 - val_precision_1: 0.2317 - val_recall_1: 0.7033 - val_f1_score: 0.1417\n",
      "Epoch 47/50\n",
      "2/2 [==============================] - 5s 2s/step - loss: 0.2309 - accuracy: 0.9867 - precision_1: 0.1849 - recall_1: 0.7407 - f1_score: 0.1431 - val_loss: 0.2031 - val_accuracy: 0.9912 - val_precision_1: 0.2537 - val_recall_1: 0.6968 - val_f1_score: 0.1438\n",
      "Epoch 48/50\n",
      "2/2 [==============================] - 5s 2s/step - loss: 0.2264 - accuracy: 0.9881 - precision_1: 0.2014 - recall_1: 0.7318 - f1_score: 0.1452 - val_loss: 0.1999 - val_accuracy: 0.9916 - val_precision_1: 0.2643 - val_recall_1: 0.6935 - val_f1_score: 0.1460\n",
      "Epoch 49/50\n",
      "2/2 [==============================] - 5s 3s/step - loss: 0.2223 - accuracy: 0.9884 - precision_1: 0.2072 - recall_1: 0.7324 - f1_score: 0.1473 - val_loss: 0.1971 - val_accuracy: 0.9911 - val_precision_1: 0.2530 - val_recall_1: 0.7033 - val_f1_score: 0.1481\n",
      "Epoch 50/50\n",
      "2/2 [==============================] - 5s 2s/step - loss: 0.2183 - accuracy: 0.9875 - precision_1: 0.1953 - recall_1: 0.7439 - f1_score: 0.1494 - val_loss: 0.1942 - val_accuracy: 0.9911 - val_precision_1: 0.2527 - val_recall_1: 0.7088 - val_f1_score: 0.1501\n"
     ]
    },
    {
     "data": {
      "text/plain": [
       "<keras.callbacks.History at 0x22cddb0d908>"
      ]
     },
     "execution_count": 16,
     "metadata": {},
     "output_type": "execute_result"
    }
   ],
   "source": [
    "batch_size = 10\n",
    "epochs = 50\n",
    "\n",
    "model1 = Sequential()\n",
    "model1.add(Input((128,128,1)))\n",
    "model1.add(Conv2D(12, 3, padding='same', activation=LeakyReLU(alpha=0.01), strides=(1,1)))\n",
    "model1.add(Conv2D(32, 3, padding='same', activation=LeakyReLU(alpha=0.01), strides=(1,1)))\n",
    "model1.add(Conv2D(2, 3, padding='same', strides=(1,1)))\n",
    "model1.add(Activation('softmax'))\n",
    "\n",
    "model1.compile(optimizer='adam',\n",
    "             loss=weightedLoss(keras.losses.categorical_crossentropy, [0.1, 0.9]),\n",
    "             metrics=['accuracy', tf.keras.metrics.Precision(name='precision_1', class_id=1), \n",
    "                      tf.keras.metrics.Recall(name='recall_1', class_id=1), f1_score])\n",
    "\n",
    "num_batches = int(train_size/batch_size)\n",
    "model1.fit(train_vid_cnn, train_labels_cnn, steps_per_epoch=num_batches, epochs=epochs, verbose=1, \n",
    "          validation_data=(val_vid_cnn, val_labels_cnn), callbacks=SaveBatchLoss1())"
   ]
  },
  {
   "cell_type": "code",
   "execution_count": 17,
   "metadata": {},
   "outputs": [
    {
     "data": {
      "image/png": "[encoded data removed]",
      "text/plain": [
       "<Figure size 432x288 with 1 Axes>"
      ]
     },
     "metadata": {
      "image/png": {
       "height": 261,
       "width": 376
      },
      "needs_background": "light"
     },
     "output_type": "display_data"
    }
   ],
   "source": [
    "plt.plot(range(1,epochs+1), loss_list1[num_batches-1::num_batches])\n",
    "plt.xlabel('Epoch')\n",
    "plt.ylabel('Weighted cross entropy loss')\n",
    "plt.ylim(0)\n",
    "plt.show()"
   ]
  },
  {
   "cell_type": "code",
   "execution_count": 18,
   "metadata": {},
   "outputs": [
    {
     "name": "stdout",
     "output_type": "stream",
     "text": [
      "Model: \"sequential_3\"\n",
      "_________________________________________________________________\n",
      "Layer (type)                 Output Shape              Param #   \n",
      "=================================================================\n",
      "conv2d_3 (Conv2D)            (None, 128, 128, 12)      120       \n",
      "_________________________________________________________________\n",
      "conv2d_4 (Conv2D)            (None, 128, 128, 32)      3488      \n",
      "_________________________________________________________________\n",
      "conv2d_5 (Conv2D)            (None, 128, 128, 2)       578       \n",
      "_________________________________________________________________\n",
      "activation_2 (Activation)    (None, 128, 128, 2)       0         \n",
      "=================================================================\n",
      "Total params: 4,186\n",
      "Trainable params: 4,186\n",
      "Non-trainable params: 0\n",
      "_________________________________________________________________\n"
     ]
    }
   ],
   "source": [
    "model1.summary()"
   ]
  },
  {
   "cell_type": "markdown",
   "metadata": {},
   "source": [
    "### Show results"
   ]
  },
  {
   "cell_type": "code",
   "execution_count": 19,
   "metadata": {},
   "outputs": [],
   "source": [
    "Nt = 20\n",
    "pt_test = Particle_Tracking_Training_Data(Nt)\n",
    "vid, labels, tracks = pt_test(kappa, a, IbackLevel, Nparticles, sigma_motion) \n",
    "input_vid = tf.expand_dims(vid[:,::2,::2], 3)"
   ]
  },
  {
   "cell_type": "code",
   "execution_count": 20,
   "metadata": {},
   "outputs": [],
   "source": [
    "pred = model1.predict(input_vid)"
   ]
  },
  {
   "cell_type": "code",
   "execution_count": 21,
   "metadata": {},
   "outputs": [],
   "source": [
    "threshold = 0.5\n",
    "pred_bin = pred.copy()\n",
    "pred_bin[pred_bin <= threshold] = 0\n",
    "pred_bin[pred_bin > threshold] = 1"
   ]
  },
  {
   "cell_type": "code",
   "execution_count": 22,
   "metadata": {},
   "outputs": [
    {
     "data": {
      "application/vnd.jupyter.widget-view+json": {
       "model_id": "163dca4a9dec4b0fb453fb29d824bf42",
       "version_major": 2,
       "version_minor": 0
      },
      "text/plain": [
       "interactive(children=(IntSlider(value=0, description='t', max=19), Checkbox(value=True, description='show_trac…"
      ]
     },
     "metadata": {},
     "output_type": "display_data"
    }
   ],
   "source": [
    "@interact(t=(0, Nt-1, 1))\n",
    "def plotfn(t=0, show_tracks=True):\n",
    "    fig = figure(1, [14, 7])\n",
    "    fig.add_subplot(131)\n",
    "    imshow(vid[t], origin='lower')\n",
    "    if show_tracks:\n",
    "        plot(tracks[t, :, 0], tracks[t, :, 1], 'rx')\n",
    "    xlim(0, 255)\n",
    "    ylim(0, 255)\n",
    "    plt.title('Input image')\n",
    "        \n",
    "    fig.add_subplot(132)\n",
    "    imshow(vid[t], origin='lower')\n",
    "    imshow(pred_bin[t, ..., 1], origin='lower')\n",
    "    plt.title('Predicted particles')\n",
    "    \n",
    "    fig.add_subplot(133)\n",
    "    imshow(vid[t], origin='lower')\n",
    "    imshow(labels[t, ..., 1], origin='lower')\n",
    "    plt.title('Ground truth')"
   ]
  },
  {
   "cell_type": "code",
   "execution_count": null,
   "metadata": {},
   "outputs": [],
   "source": []
  },
  {
   "cell_type": "markdown",
   "metadata": {},
   "source": [
    "# ConvLSTM2D"
   ]
  },
  {
   "cell_type": "markdown",
   "metadata": {},
   "source": [
    "#### Data Generation (videos)"
   ]
  },
  {
   "cell_type": "code",
   "execution_count": 127,
   "metadata": {},
   "outputs": [],
   "source": [
    "'''\n",
    "train_size2 = 20\n",
    "val_size2 = 3\n",
    "Nt2 = 10\n",
    "pt_video = Particle_Tracking_Training_Data(Nt2)\n",
    "\n",
    "train_vid2, train_labels2, train_tracks2 = generate_data(train_size2, pt_video, kappa, a, IbackLevel, Nparticles, sigma_motion)\n",
    "val_vid2, val_labels2, val_tracks2 = generate_data(val_size2, pt_video, kappa, a, IbackLevel, Nparticles, sigma_motion)\n",
    "'''"
   ]
  },
  {
   "cell_type": "code",
   "execution_count": 26,
   "metadata": {},
   "outputs": [],
   "source": [
    "loss_list2 = list()\n",
    "acc_train_list2 = list()\n",
    "recall_train_list2 = list()\n",
    "prec_train_list2 = list()\n",
    "f1_train_list2 = list()\n",
    "\n",
    "class SaveBatchLoss2(tf.keras.callbacks.Callback):\n",
    "    def on_train_batch_end(self, batch, logs=None):\n",
    "        loss_list2.append(logs['loss'])\n",
    "        acc_train_list2.append(logs['accuracy'])\n",
    "        recall_train_list2.append(logs['recall_1'])\n",
    "        prec_train_list2.append(logs['precision_1'])\n",
    "        f1_train_list2.append(logs['f1_score'])"
   ]
  },
  {
   "cell_type": "code",
   "execution_count": 27,
   "metadata": {},
   "outputs": [
    {
     "name": "stdout",
     "output_type": "stream",
     "text": [
      "tf.Tensor(0.9924664306640625, shape=(), dtype=float64)\n"
     ]
    }
   ],
   "source": [
    "# check which percentage is particles\n",
    "num_part = tf.math.reduce_sum(train_labels[:,:,:,:,1])\n",
    "print(1-num_part/(10*10*128*128))"
   ]
  },
  {
   "cell_type": "code",
   "execution_count": 28,
   "metadata": {
    "scrolled": true
   },
   "outputs": [
    {
     "name": "stdout",
     "output_type": "stream",
     "text": [
      "Epoch 1/50\n",
      "WARNING:tensorflow:Model was constructed with shape (None, 20, 128, 128, 1) for input KerasTensor(type_spec=TensorSpec(shape=(None, 20, 128, 128, 1), dtype=tf.float32, name='input_6'), name='input_6', description=\"created by layer 'input_6'\"), but it was called on an input with incompatible shape (2, 10, 128, 128, 1).\n",
      "WARNING:tensorflow:Model was constructed with shape (None, 20, 128, 128, 1) for input KerasTensor(type_spec=TensorSpec(shape=(None, 20, 128, 128, 1), dtype=tf.float32, name='input_6'), name='input_6', description=\"created by layer 'input_6'\"), but it was called on an input with incompatible shape (2, 10, 128, 128, 1).\n",
      "10/10 [==============================] - ETA: 0s - loss: 0.0060 - accuracy: 0.8633 - precision_1: 0.0039 - recall_1: 0.0639 - f1_score: 0.1075WARNING:tensorflow:Model was constructed with shape (None, 20, 128, 128, 1) for input KerasTensor(type_spec=TensorSpec(shape=(None, 20, 128, 128, 1), dtype=tf.float32, name='input_6'), name='input_6', description=\"created by layer 'input_6'\"), but it was called on an input with incompatible shape (None, 10, 128, 128, 1).\n",
      "10/10 [==============================] - 44s 4s/step - loss: 0.0060 - accuracy: 0.8633 - precision_1: 0.0039 - recall_1: 0.0639 - f1_score: 0.1075 - val_loss: 0.0059 - val_accuracy: 0.9926 - val_precision_1: 0.0094 - val_recall_1: 0.0038 - val_f1_score: 0.1072\n",
      "Epoch 2/50\n",
      "10/10 [==============================] - 37s 4s/step - loss: 0.0058 - accuracy: 0.9890 - precision_1: 0.0097 - recall_1: 0.0998 - f1_score: 0.1068 - val_loss: 0.0057 - val_accuracy: 0.9877 - val_precision_1: 0.0176 - val_recall_1: 0.1562 - val_f1_score: 0.1058\n",
      "Epoch 3/50\n",
      "10/10 [==============================] - 38s 4s/step - loss: 0.0056 - accuracy: 0.9824 - precision_1: 0.0154 - recall_1: 0.2098 - f1_score: 0.1051 - val_loss: 0.0054 - val_accuracy: 0.9812 - val_precision_1: 0.0492 - val_recall_1: 0.1715 - val_f1_score: 0.1043\n",
      "Epoch 4/50\n",
      "10/10 [==============================] - 38s 4s/step - loss: 0.0052 - accuracy: 0.9619 - precision_1: 0.0161 - recall_1: 0.3108 - f1_score: 0.1035 - val_loss: 0.0048 - val_accuracy: 0.9664 - val_precision_1: 0.0421 - val_recall_1: 0.3185 - val_f1_score: 0.1025\n",
      "Epoch 5/50\n",
      "10/10 [==============================] - 38s 4s/step - loss: 0.0046 - accuracy: 0.9380 - precision_1: 0.0254 - recall_1: 0.4122 - f1_score: 0.1018 - val_loss: 0.0042 - val_accuracy: 0.9616 - val_precision_1: 0.0481 - val_recall_1: 0.3963 - val_f1_score: 0.1013\n",
      "Epoch 6/50\n",
      "10/10 [==============================] - 37s 4s/step - loss: 0.0040 - accuracy: 0.9402 - precision_1: 0.0353 - recall_1: 0.5109 - f1_score: 0.1010 - val_loss: 0.0037 - val_accuracy: 0.9624 - val_precision_1: 0.0654 - val_recall_1: 0.4965 - val_f1_score: 0.1007\n",
      "Epoch 7/50\n",
      "10/10 [==============================] - 37s 4s/step - loss: 0.0036 - accuracy: 0.9443 - precision_1: 0.0474 - recall_1: 0.5682 - f1_score: 0.1005 - val_loss: 0.0034 - val_accuracy: 0.9488 - val_precision_1: 0.0868 - val_recall_1: 0.5645 - val_f1_score: 0.1006\n",
      "Epoch 8/50\n",
      "10/10 [==============================] - 37s 4s/step - loss: 0.0034 - accuracy: 0.9271 - precision_1: 0.0502 - recall_1: 0.6669 - f1_score: 0.1005 - val_loss: 0.0032 - val_accuracy: 0.8947 - val_precision_1: 0.0317 - val_recall_1: 0.7991 - val_f1_score: 0.1003\n",
      "Epoch 9/50\n",
      "10/10 [==============================] - 37s 4s/step - loss: 0.0033 - accuracy: 0.9140 - precision_1: 0.0370 - recall_1: 0.7194 - f1_score: 0.1000 - val_loss: 0.0031 - val_accuracy: 0.9146 - val_precision_1: 0.0391 - val_recall_1: 0.7757 - val_f1_score: 0.0995\n",
      "Epoch 10/50\n",
      "10/10 [==============================] - 37s 4s/step - loss: 0.0032 - accuracy: 0.9339 - precision_1: 0.0560 - recall_1: 0.6904 - f1_score: 0.0996 - val_loss: 0.0031 - val_accuracy: 0.8881 - val_precision_1: 0.0299 - val_recall_1: 0.8318 - val_f1_score: 0.0994\n",
      "Epoch 11/50\n",
      "10/10 [==============================] - 37s 4s/step - loss: 0.0030 - accuracy: 0.9384 - precision_1: 0.0541 - recall_1: 0.7588 - f1_score: 0.0993 - val_loss: 0.0029 - val_accuracy: 0.9075 - val_precision_1: 0.0450 - val_recall_1: 0.8323 - val_f1_score: 0.0994\n",
      "Epoch 12/50\n",
      "10/10 [==============================] - 36s 4s/step - loss: 0.0029 - accuracy: 0.9363 - precision_1: 0.0583 - recall_1: 0.7772 - f1_score: 0.0993 - val_loss: 0.0028 - val_accuracy: 0.9566 - val_precision_1: 0.0859 - val_recall_1: 0.7409 - val_f1_score: 0.0996\n",
      "Epoch 13/50\n",
      "10/10 [==============================] - 36s 4s/step - loss: 0.0027 - accuracy: 0.9386 - precision_1: 0.0597 - recall_1: 0.8138 - f1_score: 0.0997 - val_loss: 0.0027 - val_accuracy: 0.9465 - val_precision_1: 0.0640 - val_recall_1: 0.8084 - val_f1_score: 0.0998\n",
      "Epoch 14/50\n",
      "10/10 [==============================] - 36s 4s/step - loss: 0.0027 - accuracy: 0.9466 - precision_1: 0.0696 - recall_1: 0.7931 - f1_score: 0.0999 - val_loss: 0.0026 - val_accuracy: 0.9309 - val_precision_1: 0.0564 - val_recall_1: 0.8427 - val_f1_score: 0.1002\n",
      "Epoch 15/50\n",
      "10/10 [==============================] - 36s 4s/step - loss: 0.0027 - accuracy: 0.9320 - precision_1: 0.0546 - recall_1: 0.8028 - f1_score: 0.0999 - val_loss: 0.0027 - val_accuracy: 0.9496 - val_precision_1: 0.0956 - val_recall_1: 0.7523 - val_f1_score: 0.1003\n",
      "Epoch 16/50\n",
      "10/10 [==============================] - 36s 4s/step - loss: 0.0026 - accuracy: 0.9368 - precision_1: 0.0580 - recall_1: 0.8488 - f1_score: 0.1004 - val_loss: 0.0026 - val_accuracy: 0.9679 - val_precision_1: 0.0956 - val_recall_1: 0.7882 - val_f1_score: 0.1005\n",
      "Epoch 17/50\n",
      "10/10 [==============================] - 36s 4s/step - loss: 0.0025 - accuracy: 0.9510 - precision_1: 0.0704 - recall_1: 0.8521 - f1_score: 0.1007 - val_loss: 0.0025 - val_accuracy: 0.9602 - val_precision_1: 0.0823 - val_recall_1: 0.8323 - val_f1_score: 0.1010\n",
      "Epoch 18/50\n",
      "10/10 [==============================] - 36s 4s/step - loss: 0.0025 - accuracy: 0.9501 - precision_1: 0.0675 - recall_1: 0.8547 - f1_score: 0.1011 - val_loss: 0.0026 - val_accuracy: 0.9659 - val_precision_1: 0.1114 - val_recall_1: 0.7719 - val_f1_score: 0.1014\n",
      "Epoch 19/50\n",
      "10/10 [==============================] - 36s 4s/step - loss: 0.0024 - accuracy: 0.9487 - precision_1: 0.0748 - recall_1: 0.8568 - f1_score: 0.1016 - val_loss: 0.0027 - val_accuracy: 0.9791 - val_precision_1: 0.1733 - val_recall_1: 0.7300 - val_f1_score: 0.1019\n",
      "Epoch 20/50\n",
      "10/10 [==============================] - 36s 4s/step - loss: 0.0024 - accuracy: 0.9481 - precision_1: 0.0705 - recall_1: 0.8627 - f1_score: 0.1022 - val_loss: 0.0028 - val_accuracy: 0.9812 - val_precision_1: 0.1712 - val_recall_1: 0.7213 - val_f1_score: 0.1024\n",
      "Epoch 21/50\n",
      "10/10 [==============================] - 36s 4s/step - loss: 0.0024 - accuracy: 0.9459 - precision_1: 0.0713 - recall_1: 0.8627 - f1_score: 0.1027 - val_loss: 0.0025 - val_accuracy: 0.9698 - val_precision_1: 0.1174 - val_recall_1: 0.8100 - val_f1_score: 0.1029\n",
      "Epoch 22/50\n",
      "10/10 [==============================] - 36s 4s/step - loss: 0.0023 - accuracy: 0.9465 - precision_1: 0.0701 - recall_1: 0.8883 - f1_score: 0.1031 - val_loss: 0.0024 - val_accuracy: 0.9623 - val_precision_1: 0.1042 - val_recall_1: 0.8149 - val_f1_score: 0.1033\n",
      "Epoch 23/50\n",
      "10/10 [==============================] - 36s 4s/step - loss: 0.0023 - accuracy: 0.9520 - precision_1: 0.0762 - recall_1: 0.8770 - f1_score: 0.1036 - val_loss: 0.0023 - val_accuracy: 0.9708 - val_precision_1: 0.1132 - val_recall_1: 0.8416 - val_f1_score: 0.1038\n",
      "Epoch 24/50\n",
      "10/10 [==============================] - 36s 4s/step - loss: 0.0023 - accuracy: 0.9513 - precision_1: 0.0716 - recall_1: 0.8913 - f1_score: 0.1041 - val_loss: 0.0024 - val_accuracy: 0.9740 - val_precision_1: 0.1350 - val_recall_1: 0.8291 - val_f1_score: 0.1043\n",
      "Epoch 25/50\n",
      "10/10 [==============================] - 37s 4s/step - loss: 0.0023 - accuracy: 0.9601 - precision_1: 0.0946 - recall_1: 0.8825 - f1_score: 0.1047 - val_loss: 0.0022 - val_accuracy: 0.9460 - val_precision_1: 0.0679 - val_recall_1: 0.9075 - val_f1_score: 0.1049\n",
      "Epoch 26/50\n",
      "10/10 [==============================] - 36s 4s/step - loss: 0.0022 - accuracy: 0.9564 - precision_1: 0.0820 - recall_1: 0.9036 - f1_score: 0.1051 - val_loss: 0.0023 - val_accuracy: 0.9668 - val_precision_1: 0.1058 - val_recall_1: 0.8536 - val_f1_score: 0.1055\n"
     ]
    },
    {
     "name": "stdout",
     "output_type": "stream",
     "text": [
      "Epoch 27/50\n",
      "10/10 [==============================] - 37s 4s/step - loss: 0.0022 - accuracy: 0.9570 - precision_1: 0.0815 - recall_1: 0.9058 - f1_score: 0.1058 - val_loss: 0.0022 - val_accuracy: 0.9681 - val_precision_1: 0.1131 - val_recall_1: 0.8606 - val_f1_score: 0.1060\n",
      "Epoch 28/50\n",
      "10/10 [==============================] - 43s 4s/step - loss: 0.0022 - accuracy: 0.9570 - precision_1: 0.0840 - recall_1: 0.9000 - f1_score: 0.1063 - val_loss: 0.0023 - val_accuracy: 0.9711 - val_precision_1: 0.1272 - val_recall_1: 0.8585 - val_f1_score: 0.1066\n",
      "Epoch 29/50\n",
      "10/10 [==============================] - 35s 3s/step - loss: 0.0022 - accuracy: 0.9601 - precision_1: 0.0935 - recall_1: 0.8931 - f1_score: 0.1070 - val_loss: 0.0022 - val_accuracy: 0.9588 - val_precision_1: 0.0850 - val_recall_1: 0.9015 - val_f1_score: 0.1072\n",
      "Epoch 30/50\n",
      "10/10 [==============================] - 35s 3s/step - loss: 0.0022 - accuracy: 0.9608 - precision_1: 0.0914 - recall_1: 0.8978 - f1_score: 0.1075 - val_loss: 0.0023 - val_accuracy: 0.9742 - val_precision_1: 0.1336 - val_recall_1: 0.8372 - val_f1_score: 0.1078\n",
      "Epoch 31/50\n",
      "10/10 [==============================] - 34s 3s/step - loss: 0.0022 - accuracy: 0.9626 - precision_1: 0.0928 - recall_1: 0.8992 - f1_score: 0.1081 - val_loss: 0.0024 - val_accuracy: 0.9794 - val_precision_1: 0.1632 - val_recall_1: 0.8383 - val_f1_score: 0.1085\n",
      "Epoch 32/50\n",
      "10/10 [==============================] - 37s 4s/step - loss: 0.0023 - accuracy: 0.9573 - precision_1: 0.0843 - recall_1: 0.8800 - f1_score: 0.1087 - val_loss: 0.0025 - val_accuracy: 0.9780 - val_precision_1: 0.1749 - val_recall_1: 0.7648 - val_f1_score: 0.1090\n",
      "Epoch 33/50\n",
      "10/10 [==============================] - 37s 4s/step - loss: 0.0022 - accuracy: 0.9515 - precision_1: 0.0810 - recall_1: 0.9060 - f1_score: 0.1093 - val_loss: 0.0024 - val_accuracy: 0.9632 - val_precision_1: 0.0899 - val_recall_1: 0.8683 - val_f1_score: 0.1095\n",
      "Epoch 34/50\n",
      "10/10 [==============================] - 36s 4s/step - loss: 0.0022 - accuracy: 0.9503 - precision_1: 0.0654 - recall_1: 0.9140 - f1_score: 0.1096 - val_loss: 0.0022 - val_accuracy: 0.9581 - val_precision_1: 0.0819 - val_recall_1: 0.8938 - val_f1_score: 0.1097\n",
      "Epoch 35/50\n",
      "10/10 [==============================] - 36s 4s/step - loss: 0.0023 - accuracy: 0.9570 - precision_1: 0.0917 - recall_1: 0.8727 - f1_score: 0.1099 - val_loss: 0.0021 - val_accuracy: 0.9698 - val_precision_1: 0.1287 - val_recall_1: 0.8873 - val_f1_score: 0.1102\n",
      "Epoch 36/50\n",
      "10/10 [==============================] - 37s 4s/step - loss: 0.0021 - accuracy: 0.9637 - precision_1: 0.1017 - recall_1: 0.9065 - f1_score: 0.1106 - val_loss: 0.0022 - val_accuracy: 0.9707 - val_precision_1: 0.1142 - val_recall_1: 0.8835 - val_f1_score: 0.1109\n",
      "Epoch 37/50\n",
      "10/10 [==============================] - 37s 4s/step - loss: 0.0021 - accuracy: 0.9590 - precision_1: 0.0841 - recall_1: 0.9256 - f1_score: 0.1111 - val_loss: 0.0022 - val_accuracy: 0.9686 - val_precision_1: 0.1071 - val_recall_1: 0.8797 - val_f1_score: 0.1114\n",
      "Epoch 38/50\n",
      "10/10 [==============================] - 36s 4s/step - loss: 0.0021 - accuracy: 0.9549 - precision_1: 0.0794 - recall_1: 0.9264 - f1_score: 0.1116 - val_loss: 0.0023 - val_accuracy: 0.9754 - val_precision_1: 0.1377 - val_recall_1: 0.8438 - val_f1_score: 0.1118\n",
      "Epoch 39/50\n",
      "10/10 [==============================] - 37s 4s/step - loss: 0.0021 - accuracy: 0.9616 - precision_1: 0.1000 - recall_1: 0.9029 - f1_score: 0.1121 - val_loss: 0.0023 - val_accuracy: 0.9819 - val_precision_1: 0.1799 - val_recall_1: 0.8367 - val_f1_score: 0.1124\n",
      "Epoch 40/50\n",
      "10/10 [==============================] - 37s 4s/step - loss: 0.0021 - accuracy: 0.9675 - precision_1: 0.1035 - recall_1: 0.9118 - f1_score: 0.1127 - val_loss: 0.0021 - val_accuracy: 0.9675 - val_precision_1: 0.1050 - val_recall_1: 0.9080 - val_f1_score: 0.1131\n",
      "Epoch 41/50\n",
      "10/10 [==============================] - 37s 4s/step - loss: 0.0021 - accuracy: 0.9626 - precision_1: 0.0931 - recall_1: 0.9131 - f1_score: 0.1132 - val_loss: 0.0022 - val_accuracy: 0.9769 - val_precision_1: 0.1475 - val_recall_1: 0.8579 - val_f1_score: 0.1136\n",
      "Epoch 42/50\n",
      "10/10 [==============================] - 37s 4s/step - loss: 0.0022 - accuracy: 0.9594 - precision_1: 0.0890 - recall_1: 0.8962 - f1_score: 0.1137 - val_loss: 0.0022 - val_accuracy: 0.9684 - val_precision_1: 0.1212 - val_recall_1: 0.8879 - val_f1_score: 0.1141\n",
      "Epoch 43/50\n",
      "10/10 [==============================] - 40s 4s/step - loss: 0.0022 - accuracy: 0.9518 - precision_1: 0.0818 - recall_1: 0.8996 - f1_score: 0.1142 - val_loss: 0.0023 - val_accuracy: 0.9375 - val_precision_1: 0.0682 - val_recall_1: 0.8998 - val_f1_score: 0.1144\n",
      "Epoch 44/50\n",
      "10/10 [==============================] - 37s 4s/step - loss: 0.0022 - accuracy: 0.9530 - precision_1: 0.0846 - recall_1: 0.9033 - f1_score: 0.1145 - val_loss: 0.0022 - val_accuracy: 0.9734 - val_precision_1: 0.1280 - val_recall_1: 0.8841 - val_f1_score: 0.1148\n",
      "Epoch 45/50\n",
      "10/10 [==============================] - 36s 4s/step - loss: 0.0020 - accuracy: 0.9611 - precision_1: 0.0859 - recall_1: 0.9336 - f1_score: 0.1150 - val_loss: 0.0022 - val_accuracy: 0.9805 - val_precision_1: 0.1549 - val_recall_1: 0.8585 - val_f1_score: 0.1153\n",
      "Epoch 46/50\n",
      "10/10 [==============================] - 37s 4s/step - loss: 0.0021 - accuracy: 0.9681 - precision_1: 0.1001 - recall_1: 0.9240 - f1_score: 0.1156 - val_loss: 0.0021 - val_accuracy: 0.9729 - val_precision_1: 0.1170 - val_recall_1: 0.8944 - val_f1_score: 0.1159\n",
      "Epoch 47/50\n",
      "10/10 [==============================] - 36s 4s/step - loss: 0.0021 - accuracy: 0.9603 - precision_1: 0.0896 - recall_1: 0.9194 - f1_score: 0.1160 - val_loss: 0.0022 - val_accuracy: 0.9581 - val_precision_1: 0.0992 - val_recall_1: 0.8813 - val_f1_score: 0.1163\n",
      "Epoch 48/50\n",
      "10/10 [==============================] - 36s 4s/step - loss: 0.0022 - accuracy: 0.9558 - precision_1: 0.0877 - recall_1: 0.9129 - f1_score: 0.1165 - val_loss: 0.0021 - val_accuracy: 0.9559 - val_precision_1: 0.0842 - val_recall_1: 0.9205 - val_f1_score: 0.1167\n",
      "Epoch 49/50\n",
      "10/10 [==============================] - 37s 4s/step - loss: 0.0020 - accuracy: 0.9581 - precision_1: 0.0891 - recall_1: 0.9327 - f1_score: 0.1169 - val_loss: 0.0023 - val_accuracy: 0.9845 - val_precision_1: 0.2022 - val_recall_1: 0.8351 - val_f1_score: 0.1172\n",
      "Epoch 50/50\n",
      "10/10 [==============================] - 37s 4s/step - loss: 0.0021 - accuracy: 0.9649 - precision_1: 0.0963 - recall_1: 0.9166 - f1_score: 0.1174 - val_loss: 0.0022 - val_accuracy: 0.9768 - val_precision_1: 0.1442 - val_recall_1: 0.8797 - val_f1_score: 0.1177\n"
     ]
    },
    {
     "data": {
      "text/plain": [
       "<keras.callbacks.History at 0x22ce9e57608>"
      ]
     },
     "execution_count": 28,
     "metadata": {},
     "output_type": "execute_result"
    }
   ],
   "source": [
    "batch_size = 2\n",
    "epochs = 50\n",
    "\n",
    "model2 = Sequential()\n",
    "model2.add(Input((Nt,128,128,1)))\n",
    "model2.add(ConvLSTM2D(12, kernel_size=(3, 3), padding='same', strides=(1,1), \n",
    "                     return_sequences=True,  data_format='channels_last'))\n",
    "model2.add(ConvLSTM2D(16, kernel_size=(3, 3), padding='same', strides=(1,1), \n",
    "                     return_sequences=True,  data_format='channels_last'))\n",
    "model2.add(ConvLSTM2D(2, kernel_size=(3, 3), padding='same', strides=(1,1), \n",
    "                     return_sequences=True,  data_format='channels_last'))\n",
    "model2.add(Activation('sigmoid'))\n",
    "\n",
    "model2.compile(optimizer='adam',\n",
    "            loss=weightedLoss(keras.losses.categorical_crossentropy, [0.005, 0.995]),\n",
    "            metrics=['accuracy', tf.keras.metrics.Precision(name='precision_1', class_id=1), \n",
    "                      tf.keras.metrics.Recall(name='recall_1', class_id=1), f1_score])\n",
    "\n",
    "num_batches = int(train_size/batch_size)\n",
    "model2.fit(train_vid, train_labels, steps_per_epoch=num_batches, epochs=epochs, verbose=1, \n",
    "          validation_data=(val_vid, val_labels), callbacks=SaveBatchLoss2())"
   ]
  },
  {
   "cell_type": "code",
   "execution_count": 32,
   "metadata": {},
   "outputs": [
    {
     "data": {
      "image/png": "[encoded data removed]",
      "text/plain": [
       "<Figure size 432x288 with 1 Axes>"
      ]
     },
     "metadata": {
      "image/png": {
       "height": 261,
       "width": 398
      },
      "needs_background": "light"
     },
     "output_type": "display_data"
    }
   ],
   "source": [
    "plt.plot(range(1,epochs+1), loss_list2[num_batches-1::num_batches])\n",
    "plt.xlabel('Epoch')\n",
    "plt.ylabel('Weighted cross entropy loss')\n",
    "plt.ylim(0)\n",
    "plt.show()"
   ]
  },
  {
   "cell_type": "code",
   "execution_count": 33,
   "metadata": {},
   "outputs": [
    {
     "name": "stdout",
     "output_type": "stream",
     "text": [
      "Model: \"sequential_6\"\n",
      "_________________________________________________________________\n",
      "Layer (type)                 Output Shape              Param #   \n",
      "=================================================================\n",
      "conv_lst_m2d_9 (ConvLSTM2D)  (None, 20, 128, 128, 12)  5664      \n",
      "_________________________________________________________________\n",
      "conv_lst_m2d_10 (ConvLSTM2D) (None, 20, 128, 128, 16)  16192     \n",
      "_________________________________________________________________\n",
      "conv_lst_m2d_11 (ConvLSTM2D) (None, 20, 128, 128, 2)   1304      \n",
      "_________________________________________________________________\n",
      "activation_5 (Activation)    (None, 20, 128, 128, 2)   0         \n",
      "=================================================================\n",
      "Total params: 23,160\n",
      "Trainable params: 23,160\n",
      "Non-trainable params: 0\n",
      "_________________________________________________________________\n"
     ]
    }
   ],
   "source": [
    "model2.summary()"
   ]
  },
  {
   "cell_type": "code",
   "execution_count": null,
   "metadata": {},
   "outputs": [],
   "source": []
  }
 ],
 "metadata": {
  "kernelspec": {
   "display_name": "Python 3",
   "language": "python",
   "name": "python3"
  },
  "language_info": {
   "codemirror_mode": {
    "name": "ipython",
    "version": 3
   },
   "file_extension": ".py",
   "mimetype": "text/x-python",
   "name": "python",
   "nbconvert_exporter": "python",
   "pygments_lexer": "ipython3",
   "version": "3.7.6"
  }
 },
 "nbformat": 4,
 "nbformat_minor": 2
}
