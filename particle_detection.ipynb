{
 "cells": [
  {
   "cell_type": "code",
   "execution_count": 2,
   "metadata": {},
   "outputs": [],
   "source": [
    "#!pip install keras==2.6.*"
   ]
  },
  {
   "cell_type": "code",
   "execution_count": 1,
   "metadata": {},
   "outputs": [
    {
     "name": "stdout",
     "output_type": "stream",
     "text": [
      "Populating the interactive namespace from numpy and matplotlib\n"
     ]
    }
   ],
   "source": [
    "%pylab inline\n",
    "%config InlineBackend.figure_format = 'retina'\n",
    "from ipywidgets import interact\n",
    "import tensorflow as tf\n",
    "\n",
    "from Training_Data.Particle_Tracking_Training_Data import Particle_Tracking_Training_Data\n",
    "\n",
    "from tensorflow.data import Dataset\n",
    "import keras\n",
    "\n",
    "from keras.models import Model, Sequential\n",
    "from keras.layers import Activation, Input, LeakyReLU, ConvLSTM2D, Conv2D, Reshape\n",
    "import tensorflow.python.keras.backend as K"
   ]
  },
  {
   "cell_type": "code",
   "execution_count": 106,
   "metadata": {},
   "outputs": [],
   "source": [
    "Nt = 20 ## number of frames for each video\n",
    "kappa = 0.1 ## standard deviation of background noise added to image \n",
    "a = 3. ## scale factor for the size of particle spots (not true size of particles) \n",
    "IbackLevel = 0.1 ## relative intensity of randomly generated background pattern; in (0, 1) \n",
    "Nparticles = 10 ## the number of particles (more => slower)\n",
    "sigma_motion = 2. ## the standard deviation for particle brownian motion; should be in (0, 10)"
   ]
  },
  {
   "cell_type": "markdown",
   "metadata": {},
   "source": [
    "# Data Generation"
   ]
  },
  {
   "cell_type": "code",
   "execution_count": 111,
   "metadata": {},
   "outputs": [],
   "source": [
    "def generate_data(size, pt, kappa, a, IbackLevel, Nparticles, sigma_motion): \n",
    "    all_vid, all_labels, all_tracks = [],[],[]\n",
    "    for i in range(size): \n",
    "        vid, labels, tracks = pt(kappa, a, IbackLevel, Nparticles, sigma_motion) \n",
    "        all_vid.append(vid[:,::2,::2]) # downsample video to Ntx128x128\n",
    "        all_labels.append(labels)\n",
    "        all_tracks.append(tracks)\n",
    "    all_vid = tf.convert_to_tensor(all_vid) \n",
    "    all_labels = tf.convert_to_tensor(all_labels) \n",
    "    all_tracks = tf.convert_to_tensor(all_tracks)\n",
    "    \n",
    "    all_vid = tf.expand_dims(all_vid, 4)\n",
    "    all_labels = tf.squeeze(all_labels)\n",
    "    return all_vid, all_labels, all_tracks"
   ]
  },
  {
   "cell_type": "code",
   "execution_count": 112,
   "metadata": {},
   "outputs": [],
   "source": [
    "train_size = 20\n",
    "val_size = 3\n",
    "Nt = 10\n",
    "pt = Particle_Tracking_Training_Data(Nt) \n",
    "\n",
    "train_vid, train_labels, train_tracks = generate_data(train_size, pt, kappa, a, IbackLevel, Nparticles, sigma_motion)\n",
    "val_vid, val_labels, val_tracks = generate_data(val_size, pt, kappa, a, IbackLevel, Nparticles, sigma_motion)"
   ]
  },
  {
   "cell_type": "markdown",
   "metadata": {},
   "source": [
    "# Basic CNN"
   ]
  },
  {
   "cell_type": "code",
   "execution_count": 113,
   "metadata": {},
   "outputs": [],
   "source": [
    "#https://stackoverflow.com/questions/51793737/custom-loss-function-for-u-net-in-keras-using-class-weights-class-weight-not\n",
    "\n",
    "def weightedLoss(originalLossFunc, weightsList):\n",
    "\n",
    "    def lossFunc(true, pred):\n",
    "        axis = -1 #if channels last \n",
    "        #axis=  1 #if channels first\n",
    "\n",
    "        #argmax returns the index of the element with the greatest value\n",
    "        #done in the class axis, it returns the class index    \n",
    "        classSelectors = K.argmax(true, axis=axis) \n",
    "            #if your loss is sparse, use only true as classSelectors\n",
    "\n",
    "        #considering weights are ordered by class, for each class\n",
    "        #true(1) if the class index is equal to the weight index  \n",
    "        classSelectors = tf.cast(classSelectors, tf.int32)\n",
    "        classSelectors = [K.equal(i, classSelectors) for i in range(len(weightsList))]\n",
    "\n",
    "        #casting boolean to float for calculations  \n",
    "        #each tensor in the list contains 1 where ground true class is equal to its index \n",
    "        #if you sum all these, you will get a tensor full of ones. \n",
    "        classSelectors = [K.cast(x, K.floatx()) for x in classSelectors]\n",
    "\n",
    "        #for each of the selections above, multiply their respective weight\n",
    "        weights = [sel * w for sel,w in zip(classSelectors, weightsList)] \n",
    "\n",
    "        #sums all the selections\n",
    "        #result is a tensor with the respective weight for each element in predictions\n",
    "        weightMultiplier = weights[0]\n",
    "        for i in range(1, len(weights)):\n",
    "            weightMultiplier = weightMultiplier + weights[i]\n",
    "\n",
    "\n",
    "        #make sure your originalLossFunc only collapses the class axis\n",
    "        #you need the other axes intact to multiply the weights tensor\n",
    "        loss = originalLossFunc(true,pred) \n",
    "        loss = loss * weightMultiplier\n",
    "\n",
    "        return loss\n",
    "    return lossFunc"
   ]
  },
  {
   "cell_type": "code",
   "execution_count": 114,
   "metadata": {},
   "outputs": [],
   "source": [
    "precision_f = tf.keras.metrics.Precision(class_id=1)\n",
    "recall_f = tf.keras.metrics.Recall(class_id=1)\n",
    "\n",
    "def f1_score(y_true, y_pred):\n",
    "    precision = precision_f(y_true, y_pred)\n",
    "    recall = recall_f(y_true, y_pred)\n",
    "    f1_val = 2*(precision*recall)/(precision+recall)\n",
    "    return f1_val"
   ]
  },
  {
   "cell_type": "code",
   "execution_count": 115,
   "metadata": {},
   "outputs": [],
   "source": [
    "train_vid_cnn = tf.reshape(train_vid, (train_size*Nt, 128, 128, 1))\n",
    "train_labels_cnn = tf.reshape(train_labels, (train_size*Nt, 128, 128, 2))\n",
    "val_vid_cnn = tf.reshape(val_vid, (val_size*Nt, 128, 128, 1))\n",
    "val_labels_cnn = tf.reshape(val_labels, (val_size*Nt, 128, 128, 2))"
   ]
  },
  {
   "cell_type": "code",
   "execution_count": 116,
   "metadata": {},
   "outputs": [],
   "source": [
    "loss_list1 = list()\n",
    "acc_train_list1 = list()\n",
    "recall_train_list1 = list()\n",
    "prec_train_list1 = list()\n",
    "f1_train_list1 = list()\n",
    "\n",
    "class SaveBatchLoss1(tf.keras.callbacks.Callback):\n",
    "    def on_train_batch_end(self, batch, logs=None):\n",
    "        loss_list1.append(logs['loss'])\n",
    "        acc_train_list1.append(logs['accuracy'])\n",
    "        recall_train_list1.append(logs['recall_1'])\n",
    "        prec_train_list1.append(logs['precision_1'])\n",
    "        f1_train_list1.append(logs['f1_score'])"
   ]
  },
  {
   "cell_type": "code",
   "execution_count": 158,
   "metadata": {
    "scrolled": true
   },
   "outputs": [
    {
     "name": "stdout",
     "output_type": "stream",
     "text": [
      "Epoch 1/50\n",
      "2/2 [==============================] - 97s 72s/step - loss: 8.7476 - accuracy: 0.9227 - precision_1: 9.8701e-04 - recall_1: 0.0189 - f1_score: 0.1070 - val_loss: 8.3601 - val_accuracy: 0.9947 - val_precision_1: 0.0000e+00 - val_recall_1: 0.0000e+00 - val_f1_score: 0.1069\n",
      "Epoch 2/50\n",
      "2/2 [==============================] - 7s 4s/step - loss: 10.1657 - accuracy: 0.9947 - precision_1: 6.3830e-04 - recall_1: 2.3796e-04 - f1_score: 0.1069 - val_loss: 8.5968 - val_accuracy: 0.9961 - val_precision_1: 0.0000e+00 - val_recall_1: 0.0000e+00 - val_f1_score: 0.1069\n",
      "Epoch 3/50\n",
      "2/2 [==============================] - 7s 4s/step - loss: 9.6394 - accuracy: 0.9955 - precision_1: 0.0014 - recall_1: 2.3796e-04 - f1_score: 0.1069 - val_loss: 6.9431 - val_accuracy: 0.9955 - val_precision_1: 0.0000e+00 - val_recall_1: 0.0000e+00 - val_f1_score: 0.1069\n",
      "Epoch 4/50\n",
      "2/2 [==============================] - 7s 4s/step - loss: 7.3567 - accuracy: 0.9944 - precision_1: 8.8905e-04 - recall_1: 3.9661e-04 - f1_score: 0.1068 - val_loss: 4.4143 - val_accuracy: 0.9917 - val_precision_1: 4.0323e-04 - val_recall_1: 6.1690e-04 - val_f1_score: 0.1068\n",
      "Epoch 5/50\n",
      "2/2 [==============================] - 7s 4s/step - loss: 4.2648 - accuracy: 0.9839 - precision_1: 0.0022 - recall_1: 0.0071 - f1_score: 0.1067 - val_loss: 4.4250 - val_accuracy: 0.8828 - val_precision_1: 0.0029 - val_recall_1: 0.0993 - val_f1_score: 0.1066\n",
      "Epoch 6/50\n",
      "2/2 [==============================] - 6s 3s/step - loss: 4.3636 - accuracy: 0.8664 - precision_1: 0.0048 - recall_1: 0.1633 - f1_score: 0.1060 - val_loss: 2.3853 - val_accuracy: 0.9628 - val_precision_1: 0.0035 - val_recall_1: 0.0364 - val_f1_score: 0.1057\n",
      "Epoch 7/50\n",
      "2/2 [==============================] - 6s 3s/step - loss: 2.4307 - accuracy: 0.9725 - precision_1: 0.0060 - recall_1: 0.0374 - f1_score: 0.1056 - val_loss: 2.5589 - val_accuracy: 0.9936 - val_precision_1: 0.0046 - val_recall_1: 0.0043 - val_f1_score: 0.1055\n",
      "Epoch 8/50\n",
      "2/2 [==============================] - 6s 3s/step - loss: 2.6461 - accuracy: 0.9937 - precision_1: 0.0095 - recall_1: 0.0063 - f1_score: 0.1055 - val_loss: 2.3865 - val_accuracy: 0.9949 - val_precision_1: 0.0131 - val_recall_1: 0.0074 - val_f1_score: 0.1055\n",
      "Epoch 9/50\n",
      "2/2 [==============================] - 6s 3s/step - loss: 2.1492 - accuracy: 0.9938 - precision_1: 0.0398 - recall_1: 0.0262 - f1_score: 0.1055 - val_loss: 1.5683 - val_accuracy: 0.9898 - val_precision_1: 0.0389 - val_recall_1: 0.0882 - val_f1_score: 0.1055\n",
      "Epoch 10/50\n",
      "2/2 [==============================] - 6s 3s/step - loss: 1.2686 - accuracy: 0.9827 - precision_1: 0.0652 - recall_1: 0.2628 - f1_score: 0.1055 - val_loss: 1.6736 - val_accuracy: 0.9547 - val_precision_1: 0.0318 - val_recall_1: 0.4337 - val_f1_score: 0.1054\n",
      "Epoch 11/50\n",
      "2/2 [==============================] - 6s 3s/step - loss: 1.5483 - accuracy: 0.9488 - precision_1: 0.0437 - recall_1: 0.5884 - f1_score: 0.1054 - val_loss: 1.3054 - val_accuracy: 0.9710 - val_precision_1: 0.0461 - val_recall_1: 0.3961 - val_f1_score: 0.1053\n",
      "Epoch 12/50\n",
      "2/2 [==============================] - 7s 3s/step - loss: 1.0475 - accuracy: 0.9770 - precision_1: 0.0786 - recall_1: 0.4636 - f1_score: 0.1054 - val_loss: 1.2435 - val_accuracy: 0.9918 - val_precision_1: 0.1024 - val_recall_1: 0.1906 - val_f1_score: 0.1054\n",
      "Epoch 13/50\n",
      "2/2 [==============================] - 6s 3s/step - loss: 1.0964 - accuracy: 0.9927 - precision_1: 0.1927 - recall_1: 0.2790 - f1_score: 0.1055 - val_loss: 1.3800 - val_accuracy: 0.9946 - val_precision_1: 0.1545 - val_recall_1: 0.1407 - val_f1_score: 0.1055\n",
      "Epoch 14/50\n",
      "2/2 [==============================] - 6s 3s/step - loss: 1.1250 - accuracy: 0.9944 - precision_1: 0.2697 - recall_1: 0.2606 - f1_score: 0.1055 - val_loss: 1.1304 - val_accuracy: 0.9932 - val_precision_1: 0.1499 - val_recall_1: 0.2258 - val_f1_score: 0.1056\n",
      "Epoch 15/50\n",
      "2/2 [==============================] - 6s 3s/step - loss: 0.8712 - accuracy: 0.9914 - precision_1: 0.1948 - recall_1: 0.3940 - f1_score: 0.1056 - val_loss: 0.9361 - val_accuracy: 0.9838 - val_precision_1: 0.0894 - val_recall_1: 0.4257 - val_f1_score: 0.1057\n",
      "Epoch 16/50\n",
      "2/2 [==============================] - 6s 3s/step - loss: 0.8358 - accuracy: 0.9792 - precision_1: 0.1063 - recall_1: 0.5945 - f1_score: 0.1058 - val_loss: 1.0363 - val_accuracy: 0.9742 - val_precision_1: 0.0676 - val_recall_1: 0.5336 - val_f1_score: 0.1058\n",
      "Epoch 17/50\n",
      "2/2 [==============================] - 6s 3s/step - loss: 0.8413 - accuracy: 0.9761 - precision_1: 0.0985 - recall_1: 0.6383 - f1_score: 0.1059 - val_loss: 0.8438 - val_accuracy: 0.9869 - val_precision_1: 0.1122 - val_recall_1: 0.4294 - val_f1_score: 0.1059\n",
      "Epoch 18/50\n",
      "2/2 [==============================] - 6s 3s/step - loss: 0.7008 - accuracy: 0.9890 - precision_1: 0.1798 - recall_1: 0.5221 - f1_score: 0.1060 - val_loss: 0.9052 - val_accuracy: 0.9936 - val_precision_1: 0.1971 - val_recall_1: 0.3078 - val_f1_score: 0.1061\n",
      "Epoch 19/50\n",
      "2/2 [==============================] - 6s 3s/step - loss: 0.7528 - accuracy: 0.9939 - precision_1: 0.2958 - recall_1: 0.4208 - f1_score: 0.1062 - val_loss: 0.8831 - val_accuracy: 0.9940 - val_precision_1: 0.2144 - val_recall_1: 0.3078 - val_f1_score: 0.1062\n",
      "Epoch 20/50\n",
      "2/2 [==============================] - 6s 3s/step - loss: 0.6983 - accuracy: 0.9933 - precision_1: 0.2741 - recall_1: 0.4527 - f1_score: 0.1064 - val_loss: 0.7504 - val_accuracy: 0.9899 - val_precision_1: 0.1448 - val_recall_1: 0.4232 - val_f1_score: 0.1064\n",
      "Epoch 21/50\n",
      "2/2 [==============================] - 8s 5s/step - loss: 0.6212 - accuracy: 0.9877 - precision_1: 0.1721 - recall_1: 0.5752 - f1_score: 0.1065 - val_loss: 0.7740 - val_accuracy: 0.9825 - val_precision_1: 0.0995 - val_recall_1: 0.5330 - val_f1_score: 0.1066\n",
      "Epoch 22/50\n",
      "2/2 [==============================] - 6s 3s/step - loss: 0.6399 - accuracy: 0.9824 - precision_1: 0.1328 - recall_1: 0.6447 - f1_score: 0.1067 - val_loss: 0.7126 - val_accuracy: 0.9862 - val_precision_1: 0.1199 - val_recall_1: 0.5003 - val_f1_score: 0.1068\n",
      "Epoch 23/50\n",
      "2/2 [==============================] - 6s 3s/step - loss: 0.5765 - accuracy: 0.9879 - precision_1: 0.1777 - recall_1: 0.5903 - f1_score: 0.1069 - val_loss: 0.6958 - val_accuracy: 0.9923 - val_precision_1: 0.1885 - val_recall_1: 0.4028 - val_f1_score: 0.1070\n",
      "Epoch 24/50\n",
      "2/2 [==============================] - 7s 4s/step - loss: 0.5719 - accuracy: 0.9928 - precision_1: 0.2704 - recall_1: 0.5069 - f1_score: 0.1071 - val_loss: 0.6972 - val_accuracy: 0.9935 - val_precision_1: 0.2181 - val_recall_1: 0.3769 - val_f1_score: 0.1071\n",
      "Epoch 25/50\n",
      "2/2 [==============================] - 6s 3s/step - loss: 0.5530 - accuracy: 0.9932 - precision_1: 0.2829 - recall_1: 0.5068 - f1_score: 0.1073 - val_loss: 0.6353 - val_accuracy: 0.9910 - val_precision_1: 0.1705 - val_recall_1: 0.4473 - val_f1_score: 0.1073\n",
      "Epoch 26/50\n",
      "2/2 [==============================] - 6s 3s/step - loss: 0.5118 - accuracy: 0.9897 - precision_1: 0.2071 - recall_1: 0.5916 - f1_score: 0.1075 - val_loss: 0.6345 - val_accuracy: 0.9860 - val_precision_1: 0.1247 - val_recall_1: 0.5386 - val_f1_score: 0.1075\n",
      "Epoch 27/50\n",
      "2/2 [==============================] - 6s 3s/step - loss: 0.5127 - accuracy: 0.9861 - precision_1: 0.1657 - recall_1: 0.6493 - f1_score: 0.1077 - val_loss: 0.6003 - val_accuracy: 0.9881 - val_precision_1: 0.1418 - val_recall_1: 0.5170 - val_f1_score: 0.1077\n",
      "Epoch 28/50\n",
      "2/2 [==============================] - 6s 3s/step - loss: 0.4777 - accuracy: 0.9896 - precision_1: 0.2088 - recall_1: 0.6138 - f1_score: 0.1079 - val_loss: 0.5853 - val_accuracy: 0.9924 - val_precision_1: 0.2026 - val_recall_1: 0.4442 - val_f1_score: 0.1079\n",
      "Epoch 29/50\n",
      "2/2 [==============================] - 6s 3s/step - loss: 0.4686 - accuracy: 0.9930 - precision_1: 0.2875 - recall_1: 0.5615 - f1_score: 0.1081 - val_loss: 0.5732 - val_accuracy: 0.9930 - val_precision_1: 0.2205 - val_recall_1: 0.4436 - val_f1_score: 0.1081\n",
      "Epoch 30/50\n",
      "2/2 [==============================] - 7s 4s/step - loss: 0.4477 - accuracy: 0.9928 - precision_1: 0.2845 - recall_1: 0.5786 - f1_score: 0.1083 - val_loss: 0.5408 - val_accuracy: 0.9905 - val_precision_1: 0.1761 - val_recall_1: 0.5139 - val_f1_score: 0.1084\n",
      "Epoch 31/50\n"
     ]
    },
    {
     "name": "stdout",
     "output_type": "stream",
     "text": [
      "2/2 [==============================] - 6s 3s/step - loss: 0.4292 - accuracy: 0.9900 - precision_1: 0.2215 - recall_1: 0.6403 - f1_score: 0.1085 - val_loss: 0.5341 - val_accuracy: 0.9884 - val_precision_1: 0.1532 - val_recall_1: 0.5546 - val_f1_score: 0.1086\n",
      "Epoch 32/50\n",
      "2/2 [==============================] - 6s 3s/step - loss: 0.4164 - accuracy: 0.9896 - precision_1: 0.2184 - recall_1: 0.6568 - f1_score: 0.1087 - val_loss: 0.5073 - val_accuracy: 0.9918 - val_precision_1: 0.2037 - val_recall_1: 0.5114 - val_f1_score: 0.1088\n",
      "Epoch 33/50\n",
      "2/2 [==============================] - 6s 3s/step - loss: 0.3971 - accuracy: 0.9927 - precision_1: 0.2905 - recall_1: 0.6140 - f1_score: 0.1090 - val_loss: 0.5004 - val_accuracy: 0.9934 - val_precision_1: 0.2456 - val_recall_1: 0.4892 - val_f1_score: 0.1090\n",
      "Epoch 34/50\n",
      "2/2 [==============================] - 7s 4s/step - loss: 0.3852 - accuracy: 0.9934 - precision_1: 0.3140 - recall_1: 0.6105 - f1_score: 0.1092 - val_loss: 0.4747 - val_accuracy: 0.9915 - val_precision_1: 0.2044 - val_recall_1: 0.5404 - val_f1_score: 0.1093\n",
      "Epoch 35/50\n",
      "2/2 [==============================] - 6s 3s/step - loss: 0.3678 - accuracy: 0.9915 - precision_1: 0.2606 - recall_1: 0.6591 - f1_score: 0.1095 - val_loss: 0.4626 - val_accuracy: 0.9903 - val_precision_1: 0.1855 - val_recall_1: 0.5719 - val_f1_score: 0.1095\n",
      "Epoch 36/50\n",
      "2/2 [==============================] - 6s 3s/step - loss: 0.3566 - accuracy: 0.9912 - precision_1: 0.2555 - recall_1: 0.6724 - f1_score: 0.1097 - val_loss: 0.4459 - val_accuracy: 0.9927 - val_precision_1: 0.2360 - val_recall_1: 0.5367 - val_f1_score: 0.1098\n",
      "Epoch 37/50\n",
      "2/2 [==============================] - 6s 3s/step - loss: 0.3426 - accuracy: 0.9933 - precision_1: 0.3184 - recall_1: 0.6436 - f1_score: 0.1099 - val_loss: 0.4344 - val_accuracy: 0.9934 - val_precision_1: 0.2569 - val_recall_1: 0.5324 - val_f1_score: 0.1100\n",
      "Epoch 38/50\n",
      "2/2 [==============================] - 6s 3s/step - loss: 0.3308 - accuracy: 0.9934 - precision_1: 0.3233 - recall_1: 0.6496 - f1_score: 0.1102 - val_loss: 0.4173 - val_accuracy: 0.9917 - val_precision_1: 0.2176 - val_recall_1: 0.5793 - val_f1_score: 0.1103\n",
      "Epoch 39/50\n",
      "2/2 [==============================] - 6s 3s/step - loss: 0.3198 - accuracy: 0.9920 - precision_1: 0.2802 - recall_1: 0.6796 - f1_score: 0.1105 - val_loss: 0.4043 - val_accuracy: 0.9922 - val_precision_1: 0.2296 - val_recall_1: 0.5824 - val_f1_score: 0.1105\n",
      "Epoch 40/50\n",
      "2/2 [==============================] - 6s 3s/step - loss: 0.3084 - accuracy: 0.9931 - precision_1: 0.3143 - recall_1: 0.6669 - f1_score: 0.1107 - val_loss: 0.3955 - val_accuracy: 0.9937 - val_precision_1: 0.2731 - val_recall_1: 0.5527 - val_f1_score: 0.1108\n",
      "Epoch 41/50\n",
      "2/2 [==============================] - 6s 3s/step - loss: 0.2990 - accuracy: 0.9938 - precision_1: 0.3413 - recall_1: 0.6575 - f1_score: 0.1110 - val_loss: 0.3823 - val_accuracy: 0.9923 - val_precision_1: 0.2342 - val_recall_1: 0.5935 - val_f1_score: 0.1111\n",
      "Epoch 42/50\n",
      "2/2 [==============================] - 6s 3s/step - loss: 0.2897 - accuracy: 0.9926 - precision_1: 0.2984 - recall_1: 0.6884 - f1_score: 0.1112 - val_loss: 0.3721 - val_accuracy: 0.9927 - val_precision_1: 0.2461 - val_recall_1: 0.5941 - val_f1_score: 0.1113\n",
      "Epoch 43/50\n",
      "2/2 [==============================] - 6s 3s/step - loss: 0.2810 - accuracy: 0.9935 - precision_1: 0.3315 - recall_1: 0.6751 - f1_score: 0.1115 - val_loss: 0.3641 - val_accuracy: 0.9937 - val_precision_1: 0.2794 - val_recall_1: 0.5768 - val_f1_score: 0.1116\n",
      "Epoch 44/50\n",
      "2/2 [==============================] - 7s 4s/step - loss: 0.2729 - accuracy: 0.9939 - precision_1: 0.3464 - recall_1: 0.6731 - f1_score: 0.1118 - val_loss: 0.3552 - val_accuracy: 0.9923 - val_precision_1: 0.2386 - val_recall_1: 0.6144 - val_f1_score: 0.1119\n",
      "Epoch 45/50\n",
      "2/2 [==============================] - 7s 4s/step - loss: 0.2669 - accuracy: 0.9927 - precision_1: 0.3059 - recall_1: 0.7036 - f1_score: 0.1120 - val_loss: 0.3466 - val_accuracy: 0.9935 - val_precision_1: 0.2759 - val_recall_1: 0.5885 - val_f1_score: 0.1121\n",
      "Epoch 46/50\n",
      "2/2 [==============================] - 8s 5s/step - loss: 0.2597 - accuracy: 0.9942 - precision_1: 0.3647 - recall_1: 0.6774 - f1_score: 0.1123 - val_loss: 0.3391 - val_accuracy: 0.9935 - val_precision_1: 0.2735 - val_recall_1: 0.5935 - val_f1_score: 0.1124\n",
      "Epoch 47/50\n",
      "2/2 [==============================] - 7s 3s/step - loss: 0.2526 - accuracy: 0.9936 - precision_1: 0.3367 - recall_1: 0.6968 - f1_score: 0.1126 - val_loss: 0.3326 - val_accuracy: 0.9926 - val_precision_1: 0.2511 - val_recall_1: 0.6200 - val_f1_score: 0.1127\n",
      "Epoch 48/50\n",
      "2/2 [==============================] - 7s 4s/step - loss: 0.2474 - accuracy: 0.9937 - precision_1: 0.3426 - recall_1: 0.6992 - f1_score: 0.1129 - val_loss: 0.3275 - val_accuracy: 0.9938 - val_precision_1: 0.2875 - val_recall_1: 0.5910 - val_f1_score: 0.1129\n",
      "Epoch 49/50\n",
      "2/2 [==============================] - 6s 3s/step - loss: 0.2417 - accuracy: 0.9939 - precision_1: 0.3533 - recall_1: 0.6964 - f1_score: 0.1131 - val_loss: 0.3205 - val_accuracy: 0.9926 - val_precision_1: 0.2519 - val_recall_1: 0.6292 - val_f1_score: 0.1132\n",
      "Epoch 50/50\n",
      "2/2 [==============================] - 6s 3s/step - loss: 0.2363 - accuracy: 0.9936 - precision_1: 0.3391 - recall_1: 0.7102 - f1_score: 0.1134 - val_loss: 0.3159 - val_accuracy: 0.9940 - val_precision_1: 0.2956 - val_recall_1: 0.5972 - val_f1_score: 0.1135\n"
     ]
    },
    {
     "data": {
      "text/plain": [
       "<keras.callbacks.History at 0x22cea16e648>"
      ]
     },
     "execution_count": 158,
     "metadata": {},
     "output_type": "execute_result"
    }
   ],
   "source": [
    "batch_size = 10\n",
    "epochs = 50\n",
    "\n",
    "model1 = Sequential()\n",
    "model1.add(Input((128,128,1)))\n",
    "model1.add(Conv2D(12, 3, padding='same', activation=LeakyReLU(alpha=0.01), strides=(1,1)))\n",
    "model1.add(Conv2D(32, 3, padding='same', activation=LeakyReLU(alpha=0.01), strides=(1,1)))\n",
    "model1.add(Conv2D(2, 3, padding='same', strides=(1,1)))\n",
    "model1.add(Activation('softmax'))\n",
    "\n",
    "model1.compile(optimizer='adam',\n",
    "             loss=weightedLoss(keras.losses.categorical_crossentropy, [0.2, 0.8]),\n",
    "             metrics=['accuracy', tf.keras.metrics.Precision(name='precision_1', class_id=1), \n",
    "                      tf.keras.metrics.Recall(name='recall_1', class_id=1), f1_score])\n",
    "\n",
    "num_batches = int(train_size/batch_size)\n",
    "model1.fit(train_vid_cnn, train_labels_cnn, steps_per_epoch=num_batches, epochs=epochs, verbose=1, \n",
    "          validation_data=(val_vid_cnn, val_labels_cnn), callbacks=SaveBatchLoss1())"
   ]
  },
  {
   "cell_type": "code",
   "execution_count": 118,
   "metadata": {},
   "outputs": [
    {
     "data": {
      "image/png": "[encoded data removed]",
      "text/plain": [
       "<Figure size 432x288 with 1 Axes>"
      ]
     },
     "metadata": {
      "image/png": {
       "height": 261,
       "width": 382
      },
      "needs_background": "light"
     },
     "output_type": "display_data"
    }
   ],
   "source": [
    "plt.plot(range(1,epochs+1), loss_list1[num_batches-1::num_batches])\n",
    "plt.xlabel('Epoch')\n",
    "plt.ylabel('Weighted cross entropy loss')\n",
    "plt.ylim(0)\n",
    "plt.show()"
   ]
  },
  {
   "cell_type": "code",
   "execution_count": 119,
   "metadata": {},
   "outputs": [
    {
     "name": "stdout",
     "output_type": "stream",
     "text": [
      "Model: \"sequential_7\"\n",
      "_________________________________________________________________\n",
      "Layer (type)                 Output Shape              Param #   \n",
      "=================================================================\n",
      "conv2d_6 (Conv2D)            (None, 128, 128, 12)      120       \n",
      "_________________________________________________________________\n",
      "conv2d_7 (Conv2D)            (None, 128, 128, 32)      3488      \n",
      "_________________________________________________________________\n",
      "conv2d_8 (Conv2D)            (None, 128, 128, 2)       578       \n",
      "_________________________________________________________________\n",
      "activation_6 (Activation)    (None, 128, 128, 2)       0         \n",
      "=================================================================\n",
      "Total params: 4,186\n",
      "Trainable params: 4,186\n",
      "Non-trainable params: 0\n",
      "_________________________________________________________________\n"
     ]
    }
   ],
   "source": [
    "model1.summary()"
   ]
  },
  {
   "cell_type": "code",
   "execution_count": null,
   "metadata": {},
   "outputs": [],
   "source": []
  },
  {
   "cell_type": "markdown",
   "metadata": {},
   "source": [
    "# ConvLSTM2D"
   ]
  },
  {
   "cell_type": "code",
   "execution_count": 180,
   "metadata": {},
   "outputs": [],
   "source": [
    "loss_list2 = list()\n",
    "acc_train_list2 = list()\n",
    "recall_train_list2 = list()\n",
    "prec_train_list2 = list()\n",
    "f1_train_list2 = list()\n",
    "\n",
    "class SaveBatchLoss2(tf.keras.callbacks.Callback):\n",
    "    def on_train_batch_end(self, batch, logs=None):\n",
    "        loss_list2.append(logs['loss'])\n",
    "        acc_train_list2.append(logs['accuracy'])\n",
    "        recall_train_list2.append(logs['recall_1'])\n",
    "        prec_train_list2.append(logs['precision_1'])\n",
    "        f1_train_list2.append(logs['f1_score'])"
   ]
  },
  {
   "cell_type": "code",
   "execution_count": 27,
   "metadata": {},
   "outputs": [
    {
     "name": "stdout",
     "output_type": "stream",
     "text": [
      "tf.Tensor(0.9924664306640625, shape=(), dtype=float64)\n"
     ]
    }
   ],
   "source": [
    "# check which percentage is particles\n",
    "num_part = tf.math.reduce_sum(train_labels[:,:,:,:,1])\n",
    "print(1-num_part/(10*10*128*128))"
   ]
  },
  {
   "cell_type": "code",
   "execution_count": 181,
   "metadata": {
    "scrolled": true
   },
   "outputs": [
    {
     "name": "stdout",
     "output_type": "stream",
     "text": [
      "Epoch 1/50\n",
      "WARNING:tensorflow:Model was constructed with shape (None, 20, 128, 128, 1) for input KerasTensor(type_spec=TensorSpec(shape=(None, 20, 128, 128, 1), dtype=tf.float32, name='input_22'), name='input_22', description=\"created by layer 'input_22'\"), but it was called on an input with incompatible shape (2, 10, 128, 128, 1).\n",
      "WARNING:tensorflow:Model was constructed with shape (None, 20, 128, 128, 1) for input KerasTensor(type_spec=TensorSpec(shape=(None, 20, 128, 128, 1), dtype=tf.float32, name='input_22'), name='input_22', description=\"created by layer 'input_22'\"), but it was called on an input with incompatible shape (2, 10, 128, 128, 1).\n",
      "10/10 [==============================] - ETA: 0s - loss: 0.0059 - accuracy: 0.9700 - precision_1: 0.0000e+00 - recall_1: 0.0000e+00 - f1_score: 0.1240WARNING:tensorflow:Model was constructed with shape (None, 20, 128, 128, 1) for input KerasTensor(type_spec=TensorSpec(shape=(None, 20, 128, 128, 1), dtype=tf.float32, name='input_22'), name='input_22', description=\"created by layer 'input_22'\"), but it was called on an input with incompatible shape (None, 10, 128, 128, 1).\n",
      "10/10 [==============================] - 148s 8s/step - loss: 0.0059 - accuracy: 0.9700 - precision_1: 0.0000e+00 - recall_1: 0.0000e+00 - f1_score: 0.1240 - val_loss: 0.0054 - val_accuracy: 0.9665 - val_precision_1: 0.0000e+00 - val_recall_1: 0.0000e+00 - val_f1_score: 0.1240\n",
      "Epoch 2/50\n",
      "10/10 [==============================] - 42s 4s/step - loss: 0.0055 - accuracy: 0.9627 - precision_1: 0.0000e+00 - recall_1: 0.0000e+00 - f1_score: 0.1240 - val_loss: 0.0048 - val_accuracy: 0.9651 - val_precision_1: 0.0000e+00 - val_recall_1: 0.0000e+00 - val_f1_score: 0.1240\n",
      "Epoch 3/50\n",
      "10/10 [==============================] - 40s 4s/step - loss: 0.0047 - accuracy: 0.9440 - precision_1: 0.2905 - recall_1: 0.0402 - f1_score: 0.1240 - val_loss: 0.0042 - val_accuracy: 0.9348 - val_precision_1: 0.2452 - val_recall_1: 0.0716 - val_f1_score: 0.1240\n",
      "Epoch 4/50\n",
      "10/10 [==============================] - 41s 4s/step - loss: 0.0041 - accuracy: 0.9287 - precision_1: 0.2919 - recall_1: 0.1555 - f1_score: 0.1240 - val_loss: 0.0038 - val_accuracy: 0.8934 - val_precision_1: 0.1871 - val_recall_1: 0.2079 - val_f1_score: 0.1240\n",
      "Epoch 5/50\n",
      "10/10 [==============================] - 40s 4s/step - loss: 0.0036 - accuracy: 0.9454 - precision_1: 0.2624 - recall_1: 0.2445 - f1_score: 0.1240 - val_loss: 0.0034 - val_accuracy: 0.9689 - val_precision_1: 0.2407 - val_recall_1: 0.1758 - val_f1_score: 0.1241\n",
      "Epoch 6/50\n",
      "10/10 [==============================] - 41s 4s/step - loss: 0.0033 - accuracy: 0.9598 - precision_1: 0.2686 - recall_1: 0.2609 - f1_score: 0.1241 - val_loss: 0.0032 - val_accuracy: 0.9420 - val_precision_1: 0.1948 - val_recall_1: 0.2801 - val_f1_score: 0.1241\n",
      "Epoch 7/50\n",
      "10/10 [==============================] - 41s 4s/step - loss: 0.0028 - accuracy: 0.9604 - precision_1: 0.2637 - recall_1: 0.3581 - f1_score: 0.1242 - val_loss: 0.0024 - val_accuracy: 0.9504 - val_precision_1: 0.1622 - val_recall_1: 0.3991 - val_f1_score: 0.1242\n",
      "Epoch 8/50\n",
      "10/10 [==============================] - 41s 4s/step - loss: 0.0024 - accuracy: 0.9600 - precision_1: 0.2157 - recall_1: 0.4654 - f1_score: 0.1243 - val_loss: 0.0022 - val_accuracy: 0.9608 - val_precision_1: 0.1532 - val_recall_1: 0.3998 - val_f1_score: 0.1244\n",
      "Epoch 9/50\n",
      "10/10 [==============================] - 49s 5s/step - loss: 0.0028 - accuracy: 0.9429 - precision_1: 0.2021 - recall_1: 0.4167 - f1_score: 0.1244 - val_loss: 0.0025 - val_accuracy: 0.9846 - val_precision_1: 0.3094 - val_recall_1: 0.2233 - val_f1_score: 0.1245\n",
      "Epoch 10/50\n",
      "10/10 [==============================] - 46s 5s/step - loss: 0.0023 - accuracy: 0.9644 - precision_1: 0.2959 - recall_1: 0.4268 - f1_score: 0.1245 - val_loss: 0.0021 - val_accuracy: 0.9751 - val_precision_1: 0.2799 - val_recall_1: 0.3251 - val_f1_score: 0.1246\n",
      "Epoch 11/50\n",
      "10/10 [==============================] - 43s 4s/step - loss: 0.0020 - accuracy: 0.9640 - precision_1: 0.2768 - recall_1: 0.5069 - f1_score: 0.1247 - val_loss: 0.0019 - val_accuracy: 0.9664 - val_precision_1: 0.2361 - val_recall_1: 0.4281 - val_f1_score: 0.1248\n",
      "Epoch 12/50\n",
      "10/10 [==============================] - 40s 4s/step - loss: 0.0018 - accuracy: 0.9680 - precision_1: 0.2843 - recall_1: 0.5171 - f1_score: 0.1249 - val_loss: 0.0018 - val_accuracy: 0.9462 - val_precision_1: 0.1847 - val_recall_1: 0.5318 - val_f1_score: 0.1249\n",
      "Epoch 13/50\n",
      "10/10 [==============================] - 40s 4s/step - loss: 0.0017 - accuracy: 0.9648 - precision_1: 0.2722 - recall_1: 0.5390 - f1_score: 0.1250 - val_loss: 0.0017 - val_accuracy: 0.9647 - val_precision_1: 0.2125 - val_recall_1: 0.4627 - val_f1_score: 0.1251\n",
      "Epoch 14/50\n",
      "10/10 [==============================] - 41s 4s/step - loss: 0.0016 - accuracy: 0.9675 - precision_1: 0.2732 - recall_1: 0.5420 - f1_score: 0.1252 - val_loss: 0.0016 - val_accuracy: 0.9560 - val_precision_1: 0.1894 - val_recall_1: 0.5083 - val_f1_score: 0.1253\n",
      "Epoch 15/50\n",
      "10/10 [==============================] - 41s 4s/step - loss: 0.0015 - accuracy: 0.9670 - precision_1: 0.2710 - recall_1: 0.5578 - f1_score: 0.1254 - val_loss: 0.0016 - val_accuracy: 0.9671 - val_precision_1: 0.2139 - val_recall_1: 0.4676 - val_f1_score: 0.1255\n",
      "Epoch 16/50\n",
      "10/10 [==============================] - 41s 4s/step - loss: 0.0015 - accuracy: 0.9651 - precision_1: 0.2671 - recall_1: 0.5695 - f1_score: 0.1256 - val_loss: 0.0015 - val_accuracy: 0.9675 - val_precision_1: 0.2287 - val_recall_1: 0.4257 - val_f1_score: 0.1256\n",
      "Epoch 17/50\n",
      "10/10 [==============================] - 41s 4s/step - loss: 0.0015 - accuracy: 0.9628 - precision_1: 0.2942 - recall_1: 0.5514 - f1_score: 0.1257 - val_loss: 0.0014 - val_accuracy: 0.9550 - val_precision_1: 0.2372 - val_recall_1: 0.5126 - val_f1_score: 0.1258\n",
      "Epoch 18/50\n",
      "10/10 [==============================] - 41s 4s/step - loss: 0.0014 - accuracy: 0.9656 - precision_1: 0.3367 - recall_1: 0.5218 - f1_score: 0.1259 - val_loss: 0.0014 - val_accuracy: 0.9665 - val_precision_1: 0.2805 - val_recall_1: 0.4312 - val_f1_score: 0.1260\n",
      "Epoch 19/50\n",
      "10/10 [==============================] - 40s 4s/step - loss: 0.0013 - accuracy: 0.9655 - precision_1: 0.3274 - recall_1: 0.5402 - f1_score: 0.1261 - val_loss: 0.0013 - val_accuracy: 0.9735 - val_precision_1: 0.3049 - val_recall_1: 0.3788 - val_f1_score: 0.1262\n",
      "Epoch 20/50\n",
      "10/10 [==============================] - 41s 4s/step - loss: 0.0012 - accuracy: 0.9718 - precision_1: 0.3539 - recall_1: 0.5153 - f1_score: 0.1263 - val_loss: 0.0013 - val_accuracy: 0.9644 - val_precision_1: 0.2671 - val_recall_1: 0.4676 - val_f1_score: 0.1264\n",
      "Epoch 21/50\n",
      "10/10 [==============================] - 41s 4s/step - loss: 0.0011 - accuracy: 0.9707 - precision_1: 0.3578 - recall_1: 0.5357 - f1_score: 0.1265 - val_loss: 0.0012 - val_accuracy: 0.9585 - val_precision_1: 0.2684 - val_recall_1: 0.4972 - val_f1_score: 0.1265\n",
      "Epoch 22/50\n",
      "10/10 [==============================] - 40s 4s/step - loss: 0.0011 - accuracy: 0.9691 - precision_1: 0.3650 - recall_1: 0.5199 - f1_score: 0.1266 - val_loss: 0.0012 - val_accuracy: 0.9588 - val_precision_1: 0.2689 - val_recall_1: 0.4713 - val_f1_score: 0.1267\n",
      "Epoch 23/50\n",
      "10/10 [==============================] - 43s 4s/step - loss: 0.0011 - accuracy: 0.9698 - precision_1: 0.3726 - recall_1: 0.5281 - f1_score: 0.1268 - val_loss: 0.0012 - val_accuracy: 0.9712 - val_precision_1: 0.3180 - val_recall_1: 0.3615 - val_f1_score: 0.1269\n",
      "Epoch 24/50\n",
      "10/10 [==============================] - 41s 4s/step - loss: 0.0011 - accuracy: 0.9713 - precision_1: 0.3835 - recall_1: 0.4878 - f1_score: 0.1270 - val_loss: 0.0014 - val_accuracy: 0.9722 - val_precision_1: 0.3003 - val_recall_1: 0.2936 - val_f1_score: 0.1271\n",
      "Epoch 25/50\n",
      "10/10 [==============================] - 40s 4s/step - loss: 0.0012 - accuracy: 0.9684 - precision_1: 0.3607 - recall_1: 0.4545 - f1_score: 0.1271 - val_loss: 0.0015 - val_accuracy: 0.9722 - val_precision_1: 0.2798 - val_recall_1: 0.2665 - val_f1_score: 0.1272\n",
      "Epoch 26/50\n",
      "10/10 [==============================] - 41s 4s/step - loss: 0.0012 - accuracy: 0.9639 - precision_1: 0.3404 - recall_1: 0.4769 - f1_score: 0.1273 - val_loss: 0.0014 - val_accuracy: 0.9673 - val_precision_1: 0.2737 - val_recall_1: 0.3239 - val_f1_score: 0.1274\n"
     ]
    },
    {
     "name": "stdout",
     "output_type": "stream",
     "text": [
      "Epoch 27/50\n",
      "10/10 [==============================] - 40s 4s/step - loss: 0.0011 - accuracy: 0.9678 - precision_1: 0.3650 - recall_1: 0.4868 - f1_score: 0.1275 - val_loss: 0.0012 - val_accuracy: 0.9570 - val_precision_1: 0.2867 - val_recall_1: 0.3985 - val_f1_score: 0.1275\n",
      "Epoch 28/50\n",
      "10/10 [==============================] - 41s 4s/step - loss: 0.0011 - accuracy: 0.9697 - precision_1: 0.3799 - recall_1: 0.4716 - f1_score: 0.1276 - val_loss: 0.0012 - val_accuracy: 0.9609 - val_precision_1: 0.3166 - val_recall_1: 0.3627 - val_f1_score: 0.1277\n",
      "Epoch 29/50\n",
      "10/10 [==============================] - 40s 4s/step - loss: 0.0011 - accuracy: 0.9667 - precision_1: 0.3764 - recall_1: 0.4732 - f1_score: 0.1278 - val_loss: 0.0013 - val_accuracy: 0.9525 - val_precision_1: 0.2645 - val_recall_1: 0.4331 - val_f1_score: 0.1279\n",
      "Epoch 30/50\n",
      "10/10 [==============================] - 42s 4s/step - loss: 0.0022 - accuracy: 0.9284 - precision_1: 0.3549 - recall_1: 0.3882 - f1_score: 0.1279 - val_loss: 0.0025 - val_accuracy: 0.9828 - val_precision_1: 0.2531 - val_recall_1: 0.1129 - val_f1_score: 0.1280\n",
      "Epoch 31/50\n",
      "10/10 [==============================] - 41s 4s/step - loss: 0.0020 - accuracy: 0.9615 - precision_1: 0.3298 - recall_1: 0.3101 - f1_score: 0.1280 - val_loss: 0.0017 - val_accuracy: 0.9691 - val_precision_1: 0.3801 - val_recall_1: 0.2221 - val_f1_score: 0.1281\n",
      "Epoch 32/50\n",
      "10/10 [==============================] - 43s 4s/step - loss: 0.0014 - accuracy: 0.9672 - precision_1: 0.3786 - recall_1: 0.4583 - f1_score: 0.1281 - val_loss: 0.0012 - val_accuracy: 0.9646 - val_precision_1: 0.2916 - val_recall_1: 0.4349 - val_f1_score: 0.1282\n",
      "Epoch 33/50\n",
      "10/10 [==============================] - 41s 4s/step - loss: 0.0012 - accuracy: 0.9634 - precision_1: 0.3312 - recall_1: 0.5725 - f1_score: 0.1283 - val_loss: 0.0013 - val_accuracy: 0.9665 - val_precision_1: 0.2850 - val_recall_1: 0.4676 - val_f1_score: 0.1284\n",
      "Epoch 34/50\n",
      "10/10 [==============================] - 40s 4s/step - loss: 0.0011 - accuracy: 0.9666 - precision_1: 0.3456 - recall_1: 0.6053 - f1_score: 0.1285 - val_loss: 0.0012 - val_accuracy: 0.9656 - val_precision_1: 0.2870 - val_recall_1: 0.4756 - val_f1_score: 0.1286\n",
      "Epoch 35/50\n",
      "10/10 [==============================] - 41s 4s/step - loss: 0.0011 - accuracy: 0.9710 - precision_1: 0.3540 - recall_1: 0.5754 - f1_score: 0.1287 - val_loss: 0.0011 - val_accuracy: 0.9674 - val_precision_1: 0.2735 - val_recall_1: 0.4781 - val_f1_score: 0.1288\n",
      "Epoch 36/50\n",
      "10/10 [==============================] - 40s 4s/step - loss: 0.0010 - accuracy: 0.9719 - precision_1: 0.3535 - recall_1: 0.6028 - f1_score: 0.1289 - val_loss: 0.0011 - val_accuracy: 0.9725 - val_precision_1: 0.3114 - val_recall_1: 0.5059 - val_f1_score: 0.1290\n",
      "Epoch 37/50\n",
      "10/10 [==============================] - 41s 4s/step - loss: 9.6949e-04 - accuracy: 0.9722 - precision_1: 0.3612 - recall_1: 0.6204 - f1_score: 0.1291 - val_loss: 9.8202e-04 - val_accuracy: 0.9727 - val_precision_1: 0.3073 - val_recall_1: 0.5145 - val_f1_score: 0.1292\n",
      "Epoch 38/50\n",
      "10/10 [==============================] - 40s 4s/step - loss: 9.1639e-04 - accuracy: 0.9739 - precision_1: 0.3700 - recall_1: 0.6025 - f1_score: 0.1293 - val_loss: 0.0010 - val_accuracy: 0.9742 - val_precision_1: 0.3213 - val_recall_1: 0.4621 - val_f1_score: 0.1294\n",
      "Epoch 39/50\n",
      "10/10 [==============================] - 41s 4s/step - loss: 8.8686e-04 - accuracy: 0.9750 - precision_1: 0.3784 - recall_1: 0.5983 - f1_score: 0.1295 - val_loss: 9.8995e-04 - val_accuracy: 0.9732 - val_precision_1: 0.3218 - val_recall_1: 0.4917 - val_f1_score: 0.1296\n",
      "Epoch 40/50\n",
      "10/10 [==============================] - 40s 4s/step - loss: 9.4465e-04 - accuracy: 0.9754 - precision_1: 0.3955 - recall_1: 0.5773 - f1_score: 0.1297 - val_loss: 0.0013 - val_accuracy: 0.9770 - val_precision_1: 0.3551 - val_recall_1: 0.3825 - val_f1_score: 0.1298\n",
      "Epoch 41/50\n",
      "10/10 [==============================] - 41s 4s/step - loss: 9.6089e-04 - accuracy: 0.9738 - precision_1: 0.3687 - recall_1: 0.5955 - f1_score: 0.1299 - val_loss: 9.5249e-04 - val_accuracy: 0.9672 - val_precision_1: 0.2765 - val_recall_1: 0.5478 - val_f1_score: 0.1300\n",
      "Epoch 42/50\n",
      "10/10 [==============================] - 40s 4s/step - loss: 9.0940e-04 - accuracy: 0.9712 - precision_1: 0.3592 - recall_1: 0.6477 - f1_score: 0.1302 - val_loss: 9.3771e-04 - val_accuracy: 0.9731 - val_precision_1: 0.3203 - val_recall_1: 0.5089 - val_f1_score: 0.1303\n",
      "Epoch 43/50\n",
      "10/10 [==============================] - 40s 4s/step - loss: 8.7849e-04 - accuracy: 0.9741 - precision_1: 0.3708 - recall_1: 0.6148 - f1_score: 0.1304 - val_loss: 9.8333e-04 - val_accuracy: 0.9666 - val_precision_1: 0.2933 - val_recall_1: 0.5466 - val_f1_score: 0.1305\n",
      "Epoch 44/50\n",
      "10/10 [==============================] - 40s 4s/step - loss: 8.5188e-04 - accuracy: 0.9746 - precision_1: 0.3724 - recall_1: 0.6256 - f1_score: 0.1306 - val_loss: 0.0010 - val_accuracy: 0.9594 - val_precision_1: 0.2663 - val_recall_1: 0.6323 - val_f1_score: 0.1307\n",
      "Epoch 45/50\n",
      "10/10 [==============================] - 40s 4s/step - loss: 8.1502e-04 - accuracy: 0.9732 - precision_1: 0.3809 - recall_1: 0.6425 - f1_score: 0.1308 - val_loss: 9.4204e-04 - val_accuracy: 0.9648 - val_precision_1: 0.3062 - val_recall_1: 0.5947 - val_f1_score: 0.1309\n",
      "Epoch 46/50\n",
      "10/10 [==============================] - 40s 4s/step - loss: 7.8280e-04 - accuracy: 0.9733 - precision_1: 0.3928 - recall_1: 0.6482 - f1_score: 0.1311 - val_loss: 9.2813e-04 - val_accuracy: 0.9691 - val_precision_1: 0.3342 - val_recall_1: 0.5589 - val_f1_score: 0.1312\n",
      "Epoch 47/50\n",
      "10/10 [==============================] - 40s 4s/step - loss: 7.7029e-04 - accuracy: 0.9761 - precision_1: 0.4125 - recall_1: 0.6306 - f1_score: 0.1313 - val_loss: 8.4518e-04 - val_accuracy: 0.9666 - val_precision_1: 0.3200 - val_recall_1: 0.5595 - val_f1_score: 0.1314\n",
      "Epoch 48/50\n",
      "10/10 [==============================] - 40s 4s/step - loss: 7.6710e-04 - accuracy: 0.9748 - precision_1: 0.4094 - recall_1: 0.6315 - f1_score: 0.1315 - val_loss: 8.2600e-04 - val_accuracy: 0.9714 - val_precision_1: 0.3285 - val_recall_1: 0.5145 - val_f1_score: 0.1316\n",
      "Epoch 49/50\n",
      "10/10 [==============================] - 40s 4s/step - loss: 7.7721e-04 - accuracy: 0.9738 - precision_1: 0.3900 - recall_1: 0.6568 - f1_score: 0.1317 - val_loss: 8.0439e-04 - val_accuracy: 0.9730 - val_precision_1: 0.3061 - val_recall_1: 0.5379 - val_f1_score: 0.1318\n",
      "Epoch 50/50\n",
      "10/10 [==============================] - 40s 4s/step - loss: 7.2954e-04 - accuracy: 0.9742 - precision_1: 0.3727 - recall_1: 0.6808 - f1_score: 0.1320 - val_loss: 8.5344e-04 - val_accuracy: 0.9662 - val_precision_1: 0.2865 - val_recall_1: 0.6422 - val_f1_score: 0.1321\n"
     ]
    },
    {
     "data": {
      "text/plain": [
       "<keras.callbacks.History at 0x22cdfeaa508>"
      ]
     },
     "execution_count": 181,
     "metadata": {},
     "output_type": "execute_result"
    }
   ],
   "source": [
    "batch_size = 2\n",
    "epochs = 50\n",
    "\n",
    "model2 = Sequential()\n",
    "model2.add(Input((Nt,128,128,1)))\n",
    "model2.add(ConvLSTM2D(12, kernel_size=(3, 3), padding='same', strides=(1,1), \n",
    "                     return_sequences=True,  data_format='channels_last'))\n",
    "model2.add(ConvLSTM2D(16, kernel_size=(3, 3), padding='same', strides=(1,1), \n",
    "                     return_sequences=True,  data_format='channels_last'))\n",
    "model2.add(ConvLSTM2D(2, kernel_size=(3, 3), padding='same', strides=(1,1), \n",
    "                     return_sequences=True,  data_format='channels_last', activation=\"softmax\"))\n",
    "\n",
    "model2.compile(optimizer='adam',\n",
    "            loss=weightedLoss(keras.losses.categorical_crossentropy, [0.005, 0.995]),\n",
    "            metrics=['accuracy', tf.keras.metrics.Precision(name='precision_1', class_id=1), \n",
    "                      tf.keras.metrics.Recall(name='recall_1', class_id=1), f1_score])\n",
    "\n",
    "num_batches = int(train_size/batch_size)\n",
    "model2.fit(train_vid, train_labels, steps_per_epoch=num_batches, epochs=epochs, verbose=1, \n",
    "          validation_data=(val_vid, val_labels), callbacks=SaveBatchLoss2())"
   ]
  },
  {
   "cell_type": "code",
   "execution_count": 182,
   "metadata": {},
   "outputs": [
    {
     "data": {
      "image/png": "[encoded data removed]",
      "text/plain": [
       "<Figure size 432x288 with 1 Axes>"
      ]
     },
     "metadata": {
      "image/png": {
       "height": 261,
       "width": 398
      },
      "needs_background": "light"
     },
     "output_type": "display_data"
    }
   ],
   "source": [
    "plt.plot(range(1,epochs+1), loss_list2[num_batches-1::num_batches])\n",
    "plt.xlabel('Epoch')\n",
    "plt.ylabel('Weighted cross entropy loss')\n",
    "plt.ylim(0)\n",
    "plt.show()"
   ]
  },
  {
   "cell_type": "code",
   "execution_count": 33,
   "metadata": {},
   "outputs": [
    {
     "name": "stdout",
     "output_type": "stream",
     "text": [
      "Model: \"sequential_6\"\n",
      "_________________________________________________________________\n",
      "Layer (type)                 Output Shape              Param #   \n",
      "=================================================================\n",
      "conv_lst_m2d_9 (ConvLSTM2D)  (None, 20, 128, 128, 12)  5664      \n",
      "_________________________________________________________________\n",
      "conv_lst_m2d_10 (ConvLSTM2D) (None, 20, 128, 128, 16)  16192     \n",
      "_________________________________________________________________\n",
      "conv_lst_m2d_11 (ConvLSTM2D) (None, 20, 128, 128, 2)   1304      \n",
      "_________________________________________________________________\n",
      "activation_5 (Activation)    (None, 20, 128, 128, 2)   0         \n",
      "=================================================================\n",
      "Total params: 23,160\n",
      "Trainable params: 23,160\n",
      "Non-trainable params: 0\n",
      "_________________________________________________________________\n"
     ]
    }
   ],
   "source": [
    "model2.summary()"
   ]
  },
  {
   "cell_type": "code",
   "execution_count": null,
   "metadata": {},
   "outputs": [],
   "source": []
  },
  {
   "cell_type": "markdown",
   "metadata": {},
   "source": [
    "## Visualize results"
   ]
  },
  {
   "cell_type": "code",
   "execution_count": 145,
   "metadata": {},
   "outputs": [],
   "source": [
    "Nt = 20\n",
    "pt_test = Particle_Tracking_Training_Data(Nt)\n",
    "vid, labels, tracks = pt_test(kappa, a, IbackLevel, Nparticles, sigma_motion) \n",
    "input_vid = tf.expand_dims(vid[:,::2,::2], 3)"
   ]
  },
  {
   "cell_type": "code",
   "execution_count": 174,
   "metadata": {},
   "outputs": [
    {
     "name": "stdout",
     "output_type": "stream",
     "text": [
      "WARNING:tensorflow:5 out of the last 35 calls to <function Model.make_predict_function.<locals>.predict_function at 0x0000022CDD8B9678> triggered tf.function retracing. Tracing is expensive and the excessive number of tracings could be due to (1) creating @tf.function repeatedly in a loop, (2) passing tensors with different shapes, (3) passing Python objects instead of tensors. For (1), please define your @tf.function outside of the loop. For (2), @tf.function has experimental_relax_shapes=True option that relaxes argument shapes that can avoid unnecessary retracing. For (3), please refer to https://www.tensorflow.org/guide/function#controlling_retracing and https://www.tensorflow.org/api_docs/python/tf/function for  more details.\n"
     ]
    }
   ],
   "source": [
    "# get model predictions\n",
    "#pred = model1.predict(input_vid)\n",
    "pred = model2.predict(tf.expand_dims(input_vid,0))[0]"
   ]
  },
  {
   "cell_type": "code",
   "execution_count": 175,
   "metadata": {},
   "outputs": [],
   "source": [
    "# convert predictions to binary output\n",
    "threshold = 0.5\n",
    "pred_bin = pred.copy()\n",
    "pred_bin[pred_bin <= threshold] = 0\n",
    "pred_bin[pred_bin > threshold] = 1"
   ]
  },
  {
   "cell_type": "code",
   "execution_count": 178,
   "metadata": {},
   "outputs": [
    {
     "data": {
      "application/vnd.jupyter.widget-view+json": {
       "model_id": "bbc2eaba236a46e78b821827fa6c3f7f",
       "version_major": 2,
       "version_minor": 0
      },
      "text/plain": [
       "interactive(children=(IntSlider(value=0, description='t', max=19), Checkbox(value=True, description='show_trac…"
      ]
     },
     "metadata": {},
     "output_type": "display_data"
    }
   ],
   "source": [
    "@interact(t=(0, Nt-1, 1))\n",
    "def plotfn(t=0, show_tracks=True):\n",
    "    fig = figure(1, [14, 7])\n",
    "    fig.add_subplot(131)\n",
    "    imshow(vid[t], origin='lower')\n",
    "    #if show_tracks:\n",
    "    #    plot(tracks[t, :, 0], tracks[t, :, 1], 'rx')\n",
    "    xlim(0, 255)\n",
    "    ylim(0, 255)\n",
    "    plt.title('Input image', fontsize=25)\n",
    "        \n",
    "    fig.add_subplot(132)\n",
    "    imshow(vid[t], origin='lower')\n",
    "    imshow(pred_bin[t, ..., 1], origin='lower')\n",
    "    plt.title('Predicted particles', fontsize=25)\n",
    "    \n",
    "    fig.add_subplot(133)\n",
    "    imshow(vid[t], origin='lower')\n",
    "    imshow(labels[t, ..., 1], origin='lower')\n",
    "    plt.title('Ground truth', fontsize=25)\n",
    "    \n",
    "    plt.savefig('img'+str(t)+'_lstm.png')"
   ]
  },
  {
   "cell_type": "code",
   "execution_count": null,
   "metadata": {},
   "outputs": [],
   "source": []
  }
 ],
 "metadata": {
  "kernelspec": {
   "display_name": "Python 3",
   "language": "python",
   "name": "python3"
  },
  "language_info": {
   "codemirror_mode": {
    "name": "ipython",
    "version": 3
   },
   "file_extension": ".py",
   "mimetype": "text/x-python",
   "name": "python",
   "nbconvert_exporter": "python",
   "pygments_lexer": "ipython3",
   "version": "3.7.6"
  }
 },
 "nbformat": 4,
 "nbformat_minor": 2
}
