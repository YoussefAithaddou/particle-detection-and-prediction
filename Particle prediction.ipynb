{
 "cells": [
  {
   "cell_type": "code",
   "execution_count": null,
   "metadata": {},
   "outputs": [],
   "source": [
    "import numpy as np\n",
    "from matplotlib import pyplot as plt\n",
    "import pandas as pd\n",
    "from sklearn.preprocessing import MinMaxScaler\n",
    "from keras.models import Sequential\n",
    "from keras.layers import Dense, LSTM, Dropout, GRU, CuDNNLSTM, Flatten\n",
    "import math\n",
    "from sklearn.metrics import mean_squared_error\n",
    "\n",
    "#Compile with an inital model with 2 LSTMs of 64 units:\n",
    "model = Sequential()\n",
    "model.add(CuDNNLSTM(units=64,return_sequences=True, input_shape=(X_train.shape[1],1)))\n",
    "model.add(CuDNNLSTM(units=64))\n",
    "model.add(Flatten())\n",
    "model.add(Dense(1))\n",
    "model.compile(optimizer='rmsprop',loss='mean_squared_error')\n",
    "model.fit(X_train,y_train,epochs=20,batch_size=16)\n",
    "\n",
    "#Trying 4*3*3=36 different combinations of LSTM cells and dense layers:\n",
    "\n",
    "dense_layers = [0, 1, 2, 3]\n",
    "units = [32, 64, 128]\n",
    "n_layers = [1, 2, 3]\n",
    "\n",
    "for dense_layer in dense_layers:\n",
    "    for unit in units:\n",
    "        for layers in n_layers:\n",
    "            NAME = \"{}-lstm-{}-units-{}-dense-{}\".format(layers, unit, dense_layer, int(time.time()))\n",
    "            print(NAME)\n",
    "            \n",
    "            model = Sequential()\n",
    "\n",
    "            model.add(CuDNNLSTM(units=unit, return_sequences= layers-1>0, input_shape=(X_train.shape[1],1)))\n",
    "\n",
    "            for l in range(layers-1):\n",
    "                model.add(CuDNNLSTM(units=unit , return_sequences= l < layers-2 ))\n",
    "\n",
    "            model.add(Flatten())\n",
    "\n",
    "            for _ in range(dense_layer):\n",
    "                model.add(Dense(unit))\n",
    "\n",
    "            model.add(Dense(1))\n",
    "\n",
    "            tensorboard = TensorBoard(log_dir=\"logs/{}\".format(NAME))\n",
    "            \n",
    "            \n",
    "            # Compiling the RNN\n",
    "            model.compile(optimizer='rmsprop',loss='mean_squared_error', metrics=['MeanAbsoluteError'])\n",
    "            # Fitting to the training set\n",
    "            model.fit(X_train,y_train,epochs=10,batch_size=32, validation_split=0.3,callbacks=[tensorboard])\n",
    "\n",
    "#Compile the optimzed model based on the results:\n",
    "model.compile(optimizer='rmsprop',loss='mean_squared_error')\n",
    "model.fit(X_train,y_train,epochs=50,batch_size=32)"
   ]
  }
 ],
 "metadata": {
  "kernelspec": {
   "display_name": "Python 3",
   "language": "python",
   "name": "python3"
  },
  "language_info": {
   "codemirror_mode": {
    "name": "ipython",
    "version": 3
   },
   "file_extension": ".py",
   "mimetype": "text/x-python",
   "name": "python",
   "nbconvert_exporter": "python",
   "pygments_lexer": "ipython3",
   "version": "3.8.5"
  }
 },
 "nbformat": 4,
 "nbformat_minor": 4
}
